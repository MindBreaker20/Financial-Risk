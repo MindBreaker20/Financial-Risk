{
 "cells": [
  {
   "cell_type": "markdown",
   "id": "189990d2",
   "metadata": {},
   "source": [
    "# Credit risk reduction models\n",
    "**Bartłomiej Jamiołkowski 28.03.2022**"
   ]
  },
  {
   "cell_type": "markdown",
   "id": "8b8f2099",
   "metadata": {},
   "source": [
    "## Exercise 1"
   ]
  },
  {
   "cell_type": "markdown",
   "id": "f87a6148",
   "metadata": {},
   "source": [
    "The assumption about the normal distribution of losses for credit risk is not correct. This is justified by the CreditMetrics documentation, which states that, unlike returns on capital, returns on loans are skewed.\n",
    "The long negative tail of the distribution of credit returns is due to default. They are characterized by a high probability of obtaining a small profit (interest) and a low probability of losing large amounts of money. Correlations, which are assumed to be uniform across the portfolio, may be another factor."
   ]
  },
  {
   "cell_type": "markdown",
   "id": "a4208503",
   "metadata": {},
   "source": [
    "## Exercise 2"
   ]
  },
  {
   "cell_type": "markdown",
   "id": "6bb57b19",
   "metadata": {},
   "source": [
    "**Libraries**"
   ]
  },
  {
   "cell_type": "code",
   "execution_count": 1,
   "id": "4f1c1e5d",
   "metadata": {},
   "outputs": [
    {
     "name": "stderr",
     "output_type": "stream",
     "text": [
      "Registered S3 method overwritten by 'rvest':\n",
      "  method            from\n",
      "  read_xml.response xml2\n",
      "-- Attaching packages ------------------------------------------------------------------------------- tidyverse 1.2.1 --\n",
      "v ggplot2 3.3.5     v purrr   0.3.2\n",
      "v tibble  3.1.1     v dplyr   1.0.6\n",
      "v tidyr   1.1.3     v stringr 1.4.0\n",
      "v readr   1.3.1     v forcats 0.4.0\n",
      "-- Conflicts ---------------------------------------------------------------------------------- tidyverse_conflicts() --\n",
      "x dplyr::filter() masks stats::filter()\n",
      "x dplyr::lag()    masks stats::lag()\n",
      "x dplyr::select() masks MASS::select()\n"
     ]
    }
   ],
   "source": [
    "options(warn=-1)\n",
    "library(MASS)\n",
    "library(tidyverse)\n",
    "library(csabounds)"
   ]
  },
  {
   "cell_type": "markdown",
   "id": "13370c16",
   "metadata": {},
   "source": [
    "**Creation of correlation matrix**"
   ]
  },
  {
   "cell_type": "markdown",
   "id": "34527911",
   "metadata": {},
   "source": [
    "Z załozenia macierz korelacji ma postać: r12 = 0.3, r13 = 0.2, r23 = 0.15."
   ]
  },
  {
   "cell_type": "code",
   "execution_count": 2,
   "id": "cde225a7",
   "metadata": {},
   "outputs": [
    {
     "name": "stdout",
     "output_type": "stream",
     "text": [
      "       Firm 1 Firm 2 Firm 3\n",
      "Firm 1    1.0   0.30   0.20\n",
      "Firm 2    0.3   1.00   0.15\n",
      "Firm 3    0.2   0.15   1.00\n"
     ]
    }
   ],
   "source": [
    "correlation_matrix <- matrix(c(1.00, 0.30, 0.20, 0.30, 1.00, 0.15, 0.20, 0.15, 1.00), nrow = 3, byrow = TRUE)\n",
    "colnames(correlation_matrix) <-c(\"Firm 1\",\"Firm 2\", \"Firm 3\")\n",
    "rownames(correlation_matrix) <-c(\"Firm 1\",\"Firm 2\", \"Firm 3\")\n",
    "print(correlation_matrix)"
   ]
  },
  {
   "cell_type": "markdown",
   "id": "5ac8f980",
   "metadata": {},
   "source": [
    "**Generating scenarios**\n",
    "\n",
    "Correlated data is generated consisting of 20,000 observations from a multivariate normal distribution, where the mean / expected values are from the CreditMetrics table based on the collateral status of the bonds, e.g. seniority secured etc."
   ]
  },
  {
   "cell_type": "code",
   "execution_count": 3,
   "id": "85e2d2c6",
   "metadata": {},
   "outputs": [],
   "source": [
    "set.seed(5)\n",
    "ma = c(0.3274, 0.5380, 0.5113)\n",
    "scenarios <- as.data.frame(mvrnorm(n = 20000, mu = ma, Sigma = correlation_matrix))"
   ]
  },
  {
   "cell_type": "code",
   "execution_count": 4,
   "id": "b88aa3ed",
   "metadata": {},
   "outputs": [
    {
     "data": {
      "text/html": [
       "<table>\n",
       "<thead><tr><th scope=col>Firm 1</th><th scope=col>Firm 2</th><th scope=col>Firm 3</th></tr></thead>\n",
       "<tbody>\n",
       "\t<tr><td>-0.8701109 </td><td> 0.5483039 </td><td>-0.01374196</td></tr>\n",
       "\t<tr><td> 1.3857238 </td><td> 2.1130691 </td><td> 0.61066822</td></tr>\n",
       "\t<tr><td>-0.6137376 </td><td>-1.0203884 </td><td> 0.55544367</td></tr>\n",
       "\t<tr><td> 0.8183878 </td><td> 0.5683423 </td><td> 0.01432629</td></tr>\n",
       "\t<tr><td> 2.3463760 </td><td> 2.1014218 </td><td> 0.18807102</td></tr>\n",
       "\t<tr><td>-0.8064094 </td><td>-0.3691785 </td><td> 1.60249143</td></tr>\n",
       "</tbody>\n",
       "</table>\n"
      ],
      "text/latex": [
       "\\begin{tabular}{r|lll}\n",
       " Firm 1 & Firm 2 & Firm 3\\\\\n",
       "\\hline\n",
       "\t -0.8701109  &  0.5483039  & -0.01374196\\\\\n",
       "\t  1.3857238  &  2.1130691  &  0.61066822\\\\\n",
       "\t -0.6137376  & -1.0203884  &  0.55544367\\\\\n",
       "\t  0.8183878  &  0.5683423  &  0.01432629\\\\\n",
       "\t  2.3463760  &  2.1014218  &  0.18807102\\\\\n",
       "\t -0.8064094  & -0.3691785  &  1.60249143\\\\\n",
       "\\end{tabular}\n"
      ],
      "text/markdown": [
       "\n",
       "| Firm 1 | Firm 2 | Firm 3 |\n",
       "|---|---|---|\n",
       "| -0.8701109  |  0.5483039  | -0.01374196 |\n",
       "|  1.3857238  |  2.1130691  |  0.61066822 |\n",
       "| -0.6137376  | -1.0203884  |  0.55544367 |\n",
       "|  0.8183878  |  0.5683423  |  0.01432629 |\n",
       "|  2.3463760  |  2.1014218  |  0.18807102 |\n",
       "| -0.8064094  | -0.3691785  |  1.60249143 |\n",
       "\n"
      ],
      "text/plain": [
       "  Firm 1     Firm 2     Firm 3     \n",
       "1 -0.8701109  0.5483039 -0.01374196\n",
       "2  1.3857238  2.1130691  0.61066822\n",
       "3 -0.6137376 -1.0203884  0.55544367\n",
       "4  0.8183878  0.5683423  0.01432629\n",
       "5  2.3463760  2.1014218  0.18807102\n",
       "6 -0.8064094 -0.3691785  1.60249143"
      ]
     },
     "metadata": {},
     "output_type": "display_data"
    }
   ],
   "source": [
    "head(scenarios)"
   ]
  },
  {
   "cell_type": "markdown",
   "id": "0c4d54a1",
   "metadata": {},
   "source": [
    "**Checking for each bond how the random number affects its rating**"
   ]
  },
  {
   "cell_type": "markdown",
   "id": "1c1b4acb",
   "metadata": {},
   "source": [
    "Rating A"
   ]
  },
  {
   "attachments": {},
   "cell_type": "markdown",
   "id": "7a335b7b",
   "metadata": {},
   "source": [
    "<div>\n",
    "<img src=\"images/rating_A.jpg\" width=\"500\"/>\n",
    "</div>"
   ]
  },
  {
   "cell_type": "markdown",
   "id": "c002ae7f",
   "metadata": {},
   "source": [
    "Rating BB"
   ]
  },
  {
   "attachments": {},
   "cell_type": "markdown",
   "id": "38612ec4",
   "metadata": {},
   "source": [
    "<div>\n",
    "<img src=\"images/rating_BB.jpg\" width=\"500\"/>\n",
    "</div>"
   ]
  },
  {
   "cell_type": "markdown",
   "id": "fa261b4c",
   "metadata": {},
   "source": [
    "Rating CCC"
   ]
  },
  {
   "attachments": {},
   "cell_type": "markdown",
   "id": "014ceb9e",
   "metadata": {},
   "source": [
    "<div>\n",
    "<img src=\"images/rating_CC.jpg\" width=\"500\"/>\n",
    "</div>"
   ]
  },
  {
   "cell_type": "code",
   "execution_count": 5,
   "id": "8a91482d",
   "metadata": {},
   "outputs": [],
   "source": [
    "scenarios['New Rating 1'] <- rep(NA, 20000)\n",
    "scenarios['New Rating 2'] <- rep(NA, 20000)\n",
    "scenarios['New Rating 3'] <- rep(NA, 20000)"
   ]
  },
  {
   "cell_type": "code",
   "execution_count": 6,
   "id": "945fe235",
   "metadata": {},
   "outputs": [],
   "source": [
    "for(i in 1:20000){\n",
    "    if(scenarios$'Firm 1'[i] > 3.1214){\n",
    "        scenarios$'New Rating 1'[i] = 'AAA'\n",
    "    }\n",
    "    else if(scenarios$'Firm 1'[i] <= 3.1214 && scenarios$'Firm 1'[i] > 1.9845){\n",
    "        scenarios$'New Rating 1'[i] = 'AA'\n",
    "    }\n",
    "    else if(scenarios$'Firm 1'[i] <= 1.9845 && scenarios$'Firm 1'[i] > -0.5070){\n",
    "        scenarios$'New Rating 1'[i] = 'A'\n",
    "    }\n",
    "    else if(scenarios$'Firm 1'[i] <= -0.5070 && scenarios$'Firm 1'[i] > -2.3009){\n",
    "        scenarios$'New Rating 1'[i] = 'BBB'\n",
    "    }\n",
    "    else if(scenarios$'Firm 1'[i] <= -2.3009 && scenarios$'Firm 1'[i] > -2.7164){\n",
    "        scenarios$'New Rating 1'[i] = 'BB'\n",
    "    }\n",
    "    else if(scenarios$'Firm 1'[i] <= -2.7164 && scenarios$'Firm 1'[i] > -3.1947){\n",
    "        scenarios$'New Rating 1'[i] = 'B'\n",
    "    }\n",
    "    else if(scenarios$'Firm 1'[i] <= -3.1947 && scenarios$'Firm 1'[i] > -3.2389){\n",
    "        scenarios$'New Rating 1'[i] = 'CCC'\n",
    "    }\n",
    "    else if(scenarios$'Firm 1'[i] <= -3.2389){\n",
    "        scenarios$'New Rating 1'[i] = 'D'\n",
    "    }    \n",
    "}"
   ]
  },
  {
   "cell_type": "code",
   "execution_count": 7,
   "id": "3849e1db",
   "metadata": {},
   "outputs": [],
   "source": [
    "for(i in 1:20000){\n",
    "    if(scenarios$'Firm 2'[i] > 3.4316){\n",
    "        scenarios$'New Rating 2'[i] = 'AAA'\n",
    "    }\n",
    "    else if(scenarios$'Firm 2'[i] <= 3.4316 && scenarios$'Firm 2'[i] > 2.9290){\n",
    "        scenarios$'New Rating 2'[i] = 'AA'\n",
    "    }\n",
    "    else if(scenarios$'Firm 2'[i] <= 2.9290 && scenarios$'Firm 2'[i] > 2.3911){\n",
    "        scenarios$'New Rating 2'[i] = 'A'\n",
    "    }\n",
    "    else if(scenarios$'Firm 2'[i] <= 2.3911 && scenarios$'Firm 2'[i] > 1.3677){\n",
    "        scenarios$'New Rating 2'[i] = 'BBB'\n",
    "    }\n",
    "    else if(scenarios$'Firm 2'[i] <= 1.3677 && scenarios$'Firm 2'[i] > -1.2319){\n",
    "        scenarios$'New Rating 2'[i] = 'BB'\n",
    "    }\n",
    "    else if(scenarios$'Firm 2'[i] <= -1.2319 && scenarios$'Firm 2'[i] > -2.0415){\n",
    "        scenarios$'New Rating 2'[i] = 'B'\n",
    "    }\n",
    "    else if(scenarios$'Firm 2'[i] <= -2.0415 && scenarios$'Firm 2'[i] > -2.3044){\n",
    "        scenarios$'New Rating 2'[i] = 'CCC'\n",
    "    }\n",
    "    else if(scenarios$'Firm 2'[i] <= -2.3044){\n",
    "        scenarios$'New Rating 2'[i] = 'D'\n",
    "    }    \n",
    "}"
   ]
  },
  {
   "cell_type": "code",
   "execution_count": 8,
   "id": "7a7ba3a9",
   "metadata": {},
   "outputs": [],
   "source": [
    "for(i in 1:20000){\n",
    "    if(scenarios$'Firm 3'[i] > 2.8480){\n",
    "        scenarios$'New Rating 3'[i] = 'AAA'\n",
    "    }\n",
    "    else if(scenarios$'Firm 3'[i] <= 2.8480 && scenarios$'Firm 3'[i] > 2.8480){\n",
    "        scenarios$'New Rating 2'[i] = 'AA'\n",
    "    }\n",
    "    else if(scenarios$'Firm 3'[i] <= 2.8480 && scenarios$'Firm 3'[i] > 2.6197){\n",
    "        scenarios$'New Rating 3'[i] = 'A'\n",
    "    }\n",
    "    else if(scenarios$'Firm 3'[i] <= 2.6197 && scenarios$'Firm 3'[i] > 2.1107){\n",
    "        scenarios$'New Rating 3'[i] = 'BBB'\n",
    "    }\n",
    "    else if(scenarios$'Firm 3'[i] <= 2.1107 && scenarios$'Firm 3'[i] > 1.7369){\n",
    "        scenarios$'New Rating 3'[i] = 'BB'\n",
    "    }\n",
    "    else if(scenarios$'Firm 3'[i] <= 1.7369 && scenarios$'Firm 3'[i] > 1.0211){\n",
    "        scenarios$'New Rating 3'[i] = 'B'\n",
    "    }\n",
    "    else if(scenarios$'Firm 3'[i] <= 1.0211 && scenarios$'Firm 3'[i] > -0.8491){\n",
    "        scenarios$'New Rating 3'[i] = 'CCC'\n",
    "    }\n",
    "    else if(scenarios$'Firm 3'[i] <= -0.8491){\n",
    "        scenarios$'New Rating 3'[i] = 'D'\n",
    "    }    \n",
    "}"
   ]
  },
  {
   "cell_type": "code",
   "execution_count": 9,
   "id": "e1e8f098",
   "metadata": {},
   "outputs": [
    {
     "data": {
      "text/html": [
       "<table>\n",
       "<thead><tr><th scope=col>Firm 1</th><th scope=col>Firm 2</th><th scope=col>Firm 3</th><th scope=col>New Rating 1</th><th scope=col>New Rating 2</th><th scope=col>New Rating 3</th></tr></thead>\n",
       "<tbody>\n",
       "\t<tr><td>-0.8701109 </td><td> 0.5483039 </td><td>-0.01374196</td><td>BBB        </td><td>BB         </td><td>CCC        </td></tr>\n",
       "\t<tr><td> 1.3857238 </td><td> 2.1130691 </td><td> 0.61066822</td><td>A          </td><td>BBB        </td><td>CCC        </td></tr>\n",
       "\t<tr><td>-0.6137376 </td><td>-1.0203884 </td><td> 0.55544367</td><td>BBB        </td><td>BB         </td><td>CCC        </td></tr>\n",
       "\t<tr><td> 0.8183878 </td><td> 0.5683423 </td><td> 0.01432629</td><td>A          </td><td>BB         </td><td>CCC        </td></tr>\n",
       "\t<tr><td> 2.3463760 </td><td> 2.1014218 </td><td> 0.18807102</td><td>AA         </td><td>BBB        </td><td>CCC        </td></tr>\n",
       "\t<tr><td>-0.8064094 </td><td>-0.3691785 </td><td> 1.60249143</td><td>BBB        </td><td>BB         </td><td>B          </td></tr>\n",
       "</tbody>\n",
       "</table>\n"
      ],
      "text/latex": [
       "\\begin{tabular}{r|llllll}\n",
       " Firm 1 & Firm 2 & Firm 3 & New Rating 1 & New Rating 2 & New Rating 3\\\\\n",
       "\\hline\n",
       "\t -0.8701109  &  0.5483039  & -0.01374196 & BBB         & BB          & CCC        \\\\\n",
       "\t  1.3857238  &  2.1130691  &  0.61066822 & A           & BBB         & CCC        \\\\\n",
       "\t -0.6137376  & -1.0203884  &  0.55544367 & BBB         & BB          & CCC        \\\\\n",
       "\t  0.8183878  &  0.5683423  &  0.01432629 & A           & BB          & CCC        \\\\\n",
       "\t  2.3463760  &  2.1014218  &  0.18807102 & AA          & BBB         & CCC        \\\\\n",
       "\t -0.8064094  & -0.3691785  &  1.60249143 & BBB         & BB          & B          \\\\\n",
       "\\end{tabular}\n"
      ],
      "text/markdown": [
       "\n",
       "| Firm 1 | Firm 2 | Firm 3 | New Rating 1 | New Rating 2 | New Rating 3 |\n",
       "|---|---|---|---|---|---|\n",
       "| -0.8701109  |  0.5483039  | -0.01374196 | BBB         | BB          | CCC         |\n",
       "|  1.3857238  |  2.1130691  |  0.61066822 | A           | BBB         | CCC         |\n",
       "| -0.6137376  | -1.0203884  |  0.55544367 | BBB         | BB          | CCC         |\n",
       "|  0.8183878  |  0.5683423  |  0.01432629 | A           | BB          | CCC         |\n",
       "|  2.3463760  |  2.1014218  |  0.18807102 | AA          | BBB         | CCC         |\n",
       "| -0.8064094  | -0.3691785  |  1.60249143 | BBB         | BB          | B           |\n",
       "\n"
      ],
      "text/plain": [
       "  Firm 1     Firm 2     Firm 3      New Rating 1 New Rating 2 New Rating 3\n",
       "1 -0.8701109  0.5483039 -0.01374196 BBB          BB           CCC         \n",
       "2  1.3857238  2.1130691  0.61066822 A            BBB          CCC         \n",
       "3 -0.6137376 -1.0203884  0.55544367 BBB          BB           CCC         \n",
       "4  0.8183878  0.5683423  0.01432629 A            BB           CCC         \n",
       "5  2.3463760  2.1014218  0.18807102 AA           BBB          CCC         \n",
       "6 -0.8064094 -0.3691785  1.60249143 BBB          BB           B           "
      ]
     },
     "metadata": {},
     "output_type": "display_data"
    }
   ],
   "source": [
    "head(scenarios)"
   ]
  },
  {
   "cell_type": "markdown",
   "id": "6d1c1d23",
   "metadata": {},
   "source": [
    "**Examples of one-year forward zero curves by credit rating category (%)**\n",
    "\n",
    "The columns contain the percentages for the 5, 3, and 4-year bonds in the CreditMetrics table."
   ]
  },
  {
   "cell_type": "code",
   "execution_count": 10,
   "id": "2557be38",
   "metadata": {},
   "outputs": [],
   "source": [
    "bond_values <- data.frame(\n",
    "  Firm1  = c(5.12, 5.17, 5.32, 5.63, 7.27, 8.52, 13.52),\n",
    "  Firm2 = c(4.17, 4.22, 4.32, 4.67, 6.02, 7.02, 15.02),\n",
    "  Firm3 = c(4.73, 4.78, 4.93, 5.25, 6.78, 8.03, 14.03)\n",
    ")\n",
    "colnames(bond_values) <- c('Firm 1', 'Firm 2', 'Firm 3')\n",
    "rownames(bond_values) <- c('AAA', 'AA', 'A','BBB', 'BB', 'B', 'CCC')"
   ]
  },
  {
   "cell_type": "code",
   "execution_count": 11,
   "id": "c9892d63",
   "metadata": {},
   "outputs": [
    {
     "data": {
      "text/html": [
       "<table>\n",
       "<thead><tr><th></th><th scope=col>Firm 1</th><th scope=col>Firm 2</th><th scope=col>Firm 3</th></tr></thead>\n",
       "<tbody>\n",
       "\t<tr><th scope=row>AAA</th><td> 5.12</td><td> 4.17</td><td> 4.73</td></tr>\n",
       "\t<tr><th scope=row>AA</th><td> 5.17</td><td> 4.22</td><td> 4.78</td></tr>\n",
       "\t<tr><th scope=row>A</th><td> 5.32</td><td> 4.32</td><td> 4.93</td></tr>\n",
       "\t<tr><th scope=row>BBB</th><td> 5.63</td><td> 4.67</td><td> 5.25</td></tr>\n",
       "\t<tr><th scope=row>BB</th><td> 7.27</td><td> 6.02</td><td> 6.78</td></tr>\n",
       "\t<tr><th scope=row>B</th><td> 8.52</td><td> 7.02</td><td> 8.03</td></tr>\n",
       "\t<tr><th scope=row>CCC</th><td>13.52</td><td>15.02</td><td>14.03</td></tr>\n",
       "</tbody>\n",
       "</table>\n"
      ],
      "text/latex": [
       "\\begin{tabular}{r|lll}\n",
       "  & Firm 1 & Firm 2 & Firm 3\\\\\n",
       "\\hline\n",
       "\tAAA &  5.12 &  4.17 &  4.73\\\\\n",
       "\tAA &  5.17 &  4.22 &  4.78\\\\\n",
       "\tA &  5.32 &  4.32 &  4.93\\\\\n",
       "\tBBB &  5.63 &  4.67 &  5.25\\\\\n",
       "\tBB &  7.27 &  6.02 &  6.78\\\\\n",
       "\tB &  8.52 &  7.02 &  8.03\\\\\n",
       "\tCCC & 13.52 & 15.02 & 14.03\\\\\n",
       "\\end{tabular}\n"
      ],
      "text/markdown": [
       "\n",
       "| <!--/--> | Firm 1 | Firm 2 | Firm 3 |\n",
       "|---|---|---|---|\n",
       "| AAA |  5.12 |  4.17 |  4.73 |\n",
       "| AA |  5.17 |  4.22 |  4.78 |\n",
       "| A |  5.32 |  4.32 |  4.93 |\n",
       "| BBB |  5.63 |  4.67 |  5.25 |\n",
       "| BB |  7.27 |  6.02 |  6.78 |\n",
       "| B |  8.52 |  7.02 |  8.03 |\n",
       "| CCC | 13.52 | 15.02 | 14.03 |\n",
       "\n"
      ],
      "text/plain": [
       "    Firm 1 Firm 2 Firm 3\n",
       "AAA  5.12   4.17   4.73 \n",
       "AA   5.17   4.22   4.78 \n",
       "A    5.32   4.32   4.93 \n",
       "BBB  5.63   4.67   5.25 \n",
       "BB   7.27   6.02   6.78 \n",
       "B    8.52   7.02   8.03 \n",
       "CCC 13.52  15.02  14.03 "
      ]
     },
     "metadata": {},
     "output_type": "display_data"
    }
   ],
   "source": [
    "bond_values"
   ]
  },
  {
   "cell_type": "markdown",
   "id": "1bc10492",
   "metadata": {},
   "source": [
    "Converting interest into amounts."
   ]
  },
  {
   "cell_type": "code",
   "execution_count": 12,
   "id": "ea8c49a3",
   "metadata": {},
   "outputs": [],
   "source": [
    "for(i in 1:7){      \n",
    "  bond_values$'Firm 1'[i] <- round(10000/(bond_values$'Firm 1'[i]/100 + 1), digits = 2)\n",
    "  bond_values$'Firm 2'[i] <- round(10000/(bond_values$'Firm 2'[i]/100 + 1), digits = 2)\n",
    "  bond_values$'Firm 3'[i] <- round(5000/(bond_values$'Firm 3'[i]/100 + 1), digits = 2)\n",
    "}"
   ]
  },
  {
   "cell_type": "code",
   "execution_count": 13,
   "id": "d0190438",
   "metadata": {},
   "outputs": [
    {
     "data": {
      "text/html": [
       "<table>\n",
       "<thead><tr><th></th><th scope=col>Firm 1</th><th scope=col>Firm 2</th><th scope=col>Firm 3</th></tr></thead>\n",
       "<tbody>\n",
       "\t<tr><th scope=row>AAA</th><td>9512.94</td><td>9599.69</td><td>4774.18</td></tr>\n",
       "\t<tr><th scope=row>AA</th><td>9508.41</td><td>9595.09</td><td>4771.90</td></tr>\n",
       "\t<tr><th scope=row>A</th><td>9494.87</td><td>9585.89</td><td>4765.08</td></tr>\n",
       "\t<tr><th scope=row>BBB</th><td>9467.01</td><td>9553.84</td><td>4750.59</td></tr>\n",
       "\t<tr><th scope=row>BB</th><td>9322.27</td><td>9432.18</td><td>4682.52</td></tr>\n",
       "\t<tr><th scope=row>B</th><td>9214.89</td><td>9344.05</td><td>4628.34</td></tr>\n",
       "\t<tr><th scope=row>CCC</th><td>8809.02</td><td>8694.14</td><td>4384.81</td></tr>\n",
       "</tbody>\n",
       "</table>\n"
      ],
      "text/latex": [
       "\\begin{tabular}{r|lll}\n",
       "  & Firm 1 & Firm 2 & Firm 3\\\\\n",
       "\\hline\n",
       "\tAAA & 9512.94 & 9599.69 & 4774.18\\\\\n",
       "\tAA & 9508.41 & 9595.09 & 4771.90\\\\\n",
       "\tA & 9494.87 & 9585.89 & 4765.08\\\\\n",
       "\tBBB & 9467.01 & 9553.84 & 4750.59\\\\\n",
       "\tBB & 9322.27 & 9432.18 & 4682.52\\\\\n",
       "\tB & 9214.89 & 9344.05 & 4628.34\\\\\n",
       "\tCCC & 8809.02 & 8694.14 & 4384.81\\\\\n",
       "\\end{tabular}\n"
      ],
      "text/markdown": [
       "\n",
       "| <!--/--> | Firm 1 | Firm 2 | Firm 3 |\n",
       "|---|---|---|---|\n",
       "| AAA | 9512.94 | 9599.69 | 4774.18 |\n",
       "| AA | 9508.41 | 9595.09 | 4771.90 |\n",
       "| A | 9494.87 | 9585.89 | 4765.08 |\n",
       "| BBB | 9467.01 | 9553.84 | 4750.59 |\n",
       "| BB | 9322.27 | 9432.18 | 4682.52 |\n",
       "| B | 9214.89 | 9344.05 | 4628.34 |\n",
       "| CCC | 8809.02 | 8694.14 | 4384.81 |\n",
       "\n"
      ],
      "text/plain": [
       "    Firm 1  Firm 2  Firm 3 \n",
       "AAA 9512.94 9599.69 4774.18\n",
       "AA  9508.41 9595.09 4771.90\n",
       "A   9494.87 9585.89 4765.08\n",
       "BBB 9467.01 9553.84 4750.59\n",
       "BB  9322.27 9432.18 4682.52\n",
       "B   9214.89 9344.05 4628.34\n",
       "CCC 8809.02 8694.14 4384.81"
      ]
     },
     "metadata": {},
     "output_type": "display_data"
    }
   ],
   "source": [
    "bond_values"
   ]
  },
  {
   "cell_type": "code",
   "execution_count": 14,
   "id": "1b2a652d",
   "metadata": {},
   "outputs": [],
   "source": [
    "bond_values['D',] <- c(0.3274*10000, 0.53808*10000, 0.5113*5000)"
   ]
  },
  {
   "cell_type": "code",
   "execution_count": 15,
   "id": "b6fefa5e",
   "metadata": {},
   "outputs": [
    {
     "data": {
      "text/html": [
       "<table>\n",
       "<thead><tr><th></th><th scope=col>Firm 1</th><th scope=col>Firm 2</th><th scope=col>Firm 3</th></tr></thead>\n",
       "<tbody>\n",
       "\t<tr><th scope=row>AAA</th><td>9512.94</td><td>9599.69</td><td>4774.18</td></tr>\n",
       "\t<tr><th scope=row>AA</th><td>9508.41</td><td>9595.09</td><td>4771.90</td></tr>\n",
       "\t<tr><th scope=row>A</th><td>9494.87</td><td>9585.89</td><td>4765.08</td></tr>\n",
       "\t<tr><th scope=row>BBB</th><td>9467.01</td><td>9553.84</td><td>4750.59</td></tr>\n",
       "\t<tr><th scope=row>BB</th><td>9322.27</td><td>9432.18</td><td>4682.52</td></tr>\n",
       "\t<tr><th scope=row>B</th><td>9214.89</td><td>9344.05</td><td>4628.34</td></tr>\n",
       "\t<tr><th scope=row>CCC</th><td>8809.02</td><td>8694.14</td><td>4384.81</td></tr>\n",
       "\t<tr><th scope=row>D</th><td>3274.00</td><td>5380.80</td><td>2556.50</td></tr>\n",
       "</tbody>\n",
       "</table>\n"
      ],
      "text/latex": [
       "\\begin{tabular}{r|lll}\n",
       "  & Firm 1 & Firm 2 & Firm 3\\\\\n",
       "\\hline\n",
       "\tAAA & 9512.94 & 9599.69 & 4774.18\\\\\n",
       "\tAA & 9508.41 & 9595.09 & 4771.90\\\\\n",
       "\tA & 9494.87 & 9585.89 & 4765.08\\\\\n",
       "\tBBB & 9467.01 & 9553.84 & 4750.59\\\\\n",
       "\tBB & 9322.27 & 9432.18 & 4682.52\\\\\n",
       "\tB & 9214.89 & 9344.05 & 4628.34\\\\\n",
       "\tCCC & 8809.02 & 8694.14 & 4384.81\\\\\n",
       "\tD & 3274.00 & 5380.80 & 2556.50\\\\\n",
       "\\end{tabular}\n"
      ],
      "text/markdown": [
       "\n",
       "| <!--/--> | Firm 1 | Firm 2 | Firm 3 |\n",
       "|---|---|---|---|\n",
       "| AAA | 9512.94 | 9599.69 | 4774.18 |\n",
       "| AA | 9508.41 | 9595.09 | 4771.90 |\n",
       "| A | 9494.87 | 9585.89 | 4765.08 |\n",
       "| BBB | 9467.01 | 9553.84 | 4750.59 |\n",
       "| BB | 9322.27 | 9432.18 | 4682.52 |\n",
       "| B | 9214.89 | 9344.05 | 4628.34 |\n",
       "| CCC | 8809.02 | 8694.14 | 4384.81 |\n",
       "| D | 3274.00 | 5380.80 | 2556.50 |\n",
       "\n"
      ],
      "text/plain": [
       "    Firm 1  Firm 2  Firm 3 \n",
       "AAA 9512.94 9599.69 4774.18\n",
       "AA  9508.41 9595.09 4771.90\n",
       "A   9494.87 9585.89 4765.08\n",
       "BBB 9467.01 9553.84 4750.59\n",
       "BB  9322.27 9432.18 4682.52\n",
       "B   9214.89 9344.05 4628.34\n",
       "CCC 8809.02 8694.14 4384.81\n",
       "D   3274.00 5380.80 2556.50"
      ]
     },
     "metadata": {},
     "output_type": "display_data"
    }
   ],
   "source": [
    "bond_values"
   ]
  },
  {
   "cell_type": "markdown",
   "id": "1df357be",
   "metadata": {},
   "source": [
    "At this stage, purchases are added to the returns on purchased bonds. In task 2, the company has an annual coupon of 500 for 3 years which equals 1,500. The third company also offers an annual coupon of 500 for 4 years or 2,000. The values of these coupons are added to the returns of 10,000 investments in the bonds listed. companies."
   ]
  },
  {
   "cell_type": "code",
   "execution_count": 16,
   "id": "54f5e889",
   "metadata": {},
   "outputs": [],
   "source": [
    "for(i in 1:8){\n",
    "    bond_values$'Firm 2'[i] = bond_values$'Firm 2'[i] + 1500.00\n",
    "    bond_values$'Firm 3'[i] = bond_values$'Firm 3'[i] + 2000.00\n",
    "}"
   ]
  },
  {
   "cell_type": "code",
   "execution_count": 17,
   "id": "10a6f4a6",
   "metadata": {},
   "outputs": [
    {
     "data": {
      "text/html": [
       "<table>\n",
       "<thead><tr><th></th><th scope=col>Firm 1</th><th scope=col>Firm 2</th><th scope=col>Firm 3</th></tr></thead>\n",
       "<tbody>\n",
       "\t<tr><th scope=row>AAA</th><td>9512.94 </td><td>11099.69</td><td>6774.18 </td></tr>\n",
       "\t<tr><th scope=row>AA</th><td>9508.41 </td><td>11095.09</td><td>6771.90 </td></tr>\n",
       "\t<tr><th scope=row>A</th><td>9494.87 </td><td>11085.89</td><td>6765.08 </td></tr>\n",
       "\t<tr><th scope=row>BBB</th><td>9467.01 </td><td>11053.84</td><td>6750.59 </td></tr>\n",
       "\t<tr><th scope=row>BB</th><td>9322.27 </td><td>10932.18</td><td>6682.52 </td></tr>\n",
       "\t<tr><th scope=row>B</th><td>9214.89 </td><td>10844.05</td><td>6628.34 </td></tr>\n",
       "\t<tr><th scope=row>CCC</th><td>8809.02 </td><td>10194.14</td><td>6384.81 </td></tr>\n",
       "\t<tr><th scope=row>D</th><td>3274.00 </td><td> 6880.80</td><td>4556.50 </td></tr>\n",
       "</tbody>\n",
       "</table>\n"
      ],
      "text/latex": [
       "\\begin{tabular}{r|lll}\n",
       "  & Firm 1 & Firm 2 & Firm 3\\\\\n",
       "\\hline\n",
       "\tAAA & 9512.94  & 11099.69 & 6774.18 \\\\\n",
       "\tAA & 9508.41  & 11095.09 & 6771.90 \\\\\n",
       "\tA & 9494.87  & 11085.89 & 6765.08 \\\\\n",
       "\tBBB & 9467.01  & 11053.84 & 6750.59 \\\\\n",
       "\tBB & 9322.27  & 10932.18 & 6682.52 \\\\\n",
       "\tB & 9214.89  & 10844.05 & 6628.34 \\\\\n",
       "\tCCC & 8809.02  & 10194.14 & 6384.81 \\\\\n",
       "\tD & 3274.00  &  6880.80 & 4556.50 \\\\\n",
       "\\end{tabular}\n"
      ],
      "text/markdown": [
       "\n",
       "| <!--/--> | Firm 1 | Firm 2 | Firm 3 |\n",
       "|---|---|---|---|\n",
       "| AAA | 9512.94  | 11099.69 | 6774.18  |\n",
       "| AA | 9508.41  | 11095.09 | 6771.90  |\n",
       "| A | 9494.87  | 11085.89 | 6765.08  |\n",
       "| BBB | 9467.01  | 11053.84 | 6750.59  |\n",
       "| BB | 9322.27  | 10932.18 | 6682.52  |\n",
       "| B | 9214.89  | 10844.05 | 6628.34  |\n",
       "| CCC | 8809.02  | 10194.14 | 6384.81  |\n",
       "| D | 3274.00  |  6880.80 | 4556.50  |\n",
       "\n"
      ],
      "text/plain": [
       "    Firm 1  Firm 2   Firm 3 \n",
       "AAA 9512.94 11099.69 6774.18\n",
       "AA  9508.41 11095.09 6771.90\n",
       "A   9494.87 11085.89 6765.08\n",
       "BBB 9467.01 11053.84 6750.59\n",
       "BB  9322.27 10932.18 6682.52\n",
       "B   9214.89 10844.05 6628.34\n",
       "CCC 8809.02 10194.14 6384.81\n",
       "D   3274.00  6880.80 4556.50"
      ]
     },
     "metadata": {},
     "output_type": "display_data"
    }
   ],
   "source": [
    "bond_values"
   ]
  },
  {
   "cell_type": "markdown",
   "id": "a168052c",
   "metadata": {},
   "source": [
    "**Assignment of amounts to corporate bonds depending on the rating**"
   ]
  },
  {
   "cell_type": "code",
   "execution_count": 18,
   "id": "0fc4fd21",
   "metadata": {},
   "outputs": [],
   "source": [
    "for(i in 1:20000){\n",
    "    if(scenarios$'New Rating 1'[i] == 'AAA'){\n",
    "        scenarios$'Firm 1'[i] = bond_values[1, 1]\n",
    "    }\n",
    "    else if(scenarios$'New Rating 1'[i] == 'AA'){\n",
    "        scenarios$'Firm 1'[i] = bond_values[2, 1]\n",
    "    }\n",
    "    else if(scenarios$'New Rating 1'[i] == 'A'){\n",
    "        scenarios$'Firm 1'[i] = bond_values[3, 1]\n",
    "    }\n",
    "    else if(scenarios$'New Rating 1'[i] == 'BBB'){\n",
    "        scenarios$'Firm 1'[i] = bond_values[4, 1]\n",
    "    }\n",
    "    else if(scenarios$'New Rating 1'[i] == 'BB'){\n",
    "        scenarios$'Firm 1'[i] = bond_values[5, 1]\n",
    "    }\n",
    "    else if(scenarios$'New Rating 1'[i] == 'B'){\n",
    "        scenarios$'Firm 1'[i] = bond_values[6, 1]\n",
    "    }\n",
    "    else if(scenarios$'New Rating 1'[i] == 'CCC'){\n",
    "        scenarios$'Firm 1'[i] = bond_values[7, 1]\n",
    "    }\n",
    "    else if(scenarios$'New Rating 1'[i] == 'D'){\n",
    "        scenarios$'Firm 1'[i] = bond_values[8, 1]\n",
    "    }    \n",
    "}"
   ]
  },
  {
   "cell_type": "code",
   "execution_count": 19,
   "id": "00eb5a47",
   "metadata": {},
   "outputs": [],
   "source": [
    "for(i in 1:20000){\n",
    "    if(scenarios$'New Rating 2'[i] == 'AAA'){\n",
    "        scenarios$'Firm 2'[i] = bond_values[1, 2]\n",
    "    }\n",
    "    else if(scenarios$'New Rating 2'[i] == 'AA'){\n",
    "        scenarios$'Firm 2'[i] = bond_values[2, 2]\n",
    "    }\n",
    "    else if(scenarios$'New Rating 2'[i] == 'A'){\n",
    "        scenarios$'Firm 2'[i] = bond_values[3, 2]\n",
    "    }\n",
    "    else if(scenarios$'New Rating 2'[i] == 'BBB'){\n",
    "        scenarios$'Firm 2'[i] = bond_values[4, 2]\n",
    "    }\n",
    "    else if(scenarios$'New Rating 2'[i] == 'BB'){\n",
    "        scenarios$'Firm 2'[i] = bond_values[5, 2]\n",
    "    }\n",
    "    else if(scenarios$'New Rating 2'[i] == 'B'){\n",
    "        scenarios$'Firm 2'[i] = bond_values[6, 2]\n",
    "    }\n",
    "    else if(scenarios$'New Rating 2'[i] == 'CCC'){\n",
    "        scenarios$'Firm 2'[i] = bond_values[7, 2]\n",
    "    }\n",
    "    else if(scenarios$'New Rating 2'[i] == 'D'){\n",
    "        scenarios$'Firm 2'[i] = bond_values[8, 2]\n",
    "    }    \n",
    "}"
   ]
  },
  {
   "cell_type": "code",
   "execution_count": 20,
   "id": "acfade11",
   "metadata": {},
   "outputs": [],
   "source": [
    "for(i in 1:20000){\n",
    "    if(scenarios$'New Rating 3'[i] == 'AAA'){\n",
    "        scenarios$'Firm 3'[i] = bond_values[1, 1]\n",
    "    }\n",
    "    else if(scenarios$'New Rating 3'[i] == 'AA'){\n",
    "        scenarios$'Firm 3'[i] = bond_values[2, 1]\n",
    "    }\n",
    "    else if(scenarios$'New Rating 3'[i] == 'A'){\n",
    "        scenarios$'Firm 3'[i] = bond_values[3, 1]\n",
    "    }\n",
    "    else if(scenarios$'New Rating 3'[i] == 'BBB'){\n",
    "        scenarios$'Firm 3'[i] = bond_values[4, 1]\n",
    "    }\n",
    "    else if(scenarios$'New Rating 3'[i] == 'BB'){\n",
    "        scenarios$'Firm 3'[i] = bond_values[5, 1]\n",
    "    }\n",
    "    else if(scenarios$'New Rating 3'[i] == 'B'){\n",
    "        scenarios$'Firm 3'[i] = bond_values[6, 1]\n",
    "    }\n",
    "    else if(scenarios$'New Rating 3'[i] == 'CCC'){\n",
    "        scenarios$'Firm 3'[i] = bond_values[7, 1]\n",
    "    }\n",
    "    else if(scenarios$'New Rating 3'[i] == 'D'){\n",
    "        scenarios$'Firm 3'[i] = bond_values[8, 1]\n",
    "    }    \n",
    "}"
   ]
  },
  {
   "cell_type": "markdown",
   "id": "93d6d791",
   "metadata": {},
   "source": [
    "**Portfolio creation**"
   ]
  },
  {
   "cell_type": "code",
   "execution_count": 21,
   "id": "e3e0ca54",
   "metadata": {},
   "outputs": [],
   "source": [
    "scenarios['Portfolio'] <- rep(NA, 20000)"
   ]
  },
  {
   "cell_type": "code",
   "execution_count": 22,
   "id": "7609b130",
   "metadata": {},
   "outputs": [],
   "source": [
    "for(i in 1:20000){\n",
    "    scenarios$'Portfolio'[i] = scenarios$'Firm 1'[i] + scenarios$'Firm 1'[i] + scenarios$'Firm 1'[i]\n",
    "}"
   ]
  },
  {
   "cell_type": "code",
   "execution_count": 23,
   "id": "b6973d5b",
   "metadata": {},
   "outputs": [
    {
     "data": {
      "text/html": [
       "<table>\n",
       "<thead><tr><th scope=col>Firm 1</th><th scope=col>Firm 2</th><th scope=col>Firm 3</th><th scope=col>New Rating 1</th><th scope=col>New Rating 2</th><th scope=col>New Rating 3</th><th scope=col>Portfolio</th></tr></thead>\n",
       "<tbody>\n",
       "\t<tr><td>9467.01 </td><td>10932.18</td><td>8809.02 </td><td>BBB     </td><td>BB      </td><td>CCC     </td><td>28401.03</td></tr>\n",
       "\t<tr><td>9494.87 </td><td>11053.84</td><td>8809.02 </td><td>A       </td><td>BBB     </td><td>CCC     </td><td>28484.61</td></tr>\n",
       "\t<tr><td>9467.01 </td><td>10932.18</td><td>8809.02 </td><td>BBB     </td><td>BB      </td><td>CCC     </td><td>28401.03</td></tr>\n",
       "\t<tr><td>9494.87 </td><td>10932.18</td><td>8809.02 </td><td>A       </td><td>BB      </td><td>CCC     </td><td>28484.61</td></tr>\n",
       "\t<tr><td>9508.41 </td><td>11053.84</td><td>8809.02 </td><td>AA      </td><td>BBB     </td><td>CCC     </td><td>28525.23</td></tr>\n",
       "\t<tr><td>9467.01 </td><td>10932.18</td><td>9214.89 </td><td>BBB     </td><td>BB      </td><td>B       </td><td>28401.03</td></tr>\n",
       "</tbody>\n",
       "</table>\n"
      ],
      "text/latex": [
       "\\begin{tabular}{r|lllllll}\n",
       " Firm 1 & Firm 2 & Firm 3 & New Rating 1 & New Rating 2 & New Rating 3 & Portfolio\\\\\n",
       "\\hline\n",
       "\t 9467.01  & 10932.18 & 8809.02  & BBB      & BB       & CCC      & 28401.03\\\\\n",
       "\t 9494.87  & 11053.84 & 8809.02  & A        & BBB      & CCC      & 28484.61\\\\\n",
       "\t 9467.01  & 10932.18 & 8809.02  & BBB      & BB       & CCC      & 28401.03\\\\\n",
       "\t 9494.87  & 10932.18 & 8809.02  & A        & BB       & CCC      & 28484.61\\\\\n",
       "\t 9508.41  & 11053.84 & 8809.02  & AA       & BBB      & CCC      & 28525.23\\\\\n",
       "\t 9467.01  & 10932.18 & 9214.89  & BBB      & BB       & B        & 28401.03\\\\\n",
       "\\end{tabular}\n"
      ],
      "text/markdown": [
       "\n",
       "| Firm 1 | Firm 2 | Firm 3 | New Rating 1 | New Rating 2 | New Rating 3 | Portfolio |\n",
       "|---|---|---|---|---|---|---|\n",
       "| 9467.01  | 10932.18 | 8809.02  | BBB      | BB       | CCC      | 28401.03 |\n",
       "| 9494.87  | 11053.84 | 8809.02  | A        | BBB      | CCC      | 28484.61 |\n",
       "| 9467.01  | 10932.18 | 8809.02  | BBB      | BB       | CCC      | 28401.03 |\n",
       "| 9494.87  | 10932.18 | 8809.02  | A        | BB       | CCC      | 28484.61 |\n",
       "| 9508.41  | 11053.84 | 8809.02  | AA       | BBB      | CCC      | 28525.23 |\n",
       "| 9467.01  | 10932.18 | 9214.89  | BBB      | BB       | B        | 28401.03 |\n",
       "\n"
      ],
      "text/plain": [
       "  Firm 1  Firm 2   Firm 3  New Rating 1 New Rating 2 New Rating 3 Portfolio\n",
       "1 9467.01 10932.18 8809.02 BBB          BB           CCC          28401.03 \n",
       "2 9494.87 11053.84 8809.02 A            BBB          CCC          28484.61 \n",
       "3 9467.01 10932.18 8809.02 BBB          BB           CCC          28401.03 \n",
       "4 9494.87 10932.18 8809.02 A            BB           CCC          28484.61 \n",
       "5 9508.41 11053.84 8809.02 AA           BBB          CCC          28525.23 \n",
       "6 9467.01 10932.18 9214.89 BBB          BB           B            28401.03 "
      ]
     },
     "metadata": {},
     "output_type": "display_data"
    }
   ],
   "source": [
    "head(scenarios)"
   ]
  },
  {
   "cell_type": "markdown",
   "id": "7314f68e",
   "metadata": {},
   "source": [
    "**Sorting data frame by portfolio value**"
   ]
  },
  {
   "cell_type": "code",
   "execution_count": 24,
   "id": "95d0a4ba",
   "metadata": {},
   "outputs": [],
   "source": [
    "scenarios <- scenarios[order(scenarios$Portfolio),]"
   ]
  },
  {
   "cell_type": "code",
   "execution_count": 25,
   "id": "90dfc2e6",
   "metadata": {},
   "outputs": [
    {
     "data": {
      "text/html": [
       "<table>\n",
       "<thead><tr><th></th><th scope=col>Firm 1</th><th scope=col>Firm 2</th><th scope=col>Firm 3</th><th scope=col>New Rating 1</th><th scope=col>New Rating 2</th><th scope=col>New Rating 3</th><th scope=col>Portfolio</th></tr></thead>\n",
       "<tbody>\n",
       "\t<tr><th scope=row>2703</th><td>3274    </td><td>10844.05</td><td>3274.00 </td><td>D       </td><td>B       </td><td>D       </td><td>9822    </td></tr>\n",
       "\t<tr><th scope=row>9417</th><td>3274    </td><td>10194.14</td><td>8809.02 </td><td>D       </td><td>CCC     </td><td>CCC     </td><td>9822    </td></tr>\n",
       "\t<tr><th scope=row>12666</th><td>3274    </td><td>10844.05</td><td>3274.00 </td><td>D       </td><td>B       </td><td>D       </td><td>9822    </td></tr>\n",
       "\t<tr><th scope=row>14905</th><td>3274    </td><td>10844.05</td><td>9322.27 </td><td>D       </td><td>B       </td><td>BB      </td><td>9822    </td></tr>\n",
       "\t<tr><th scope=row>16897</th><td>3274    </td><td>10932.18</td><td>8809.02 </td><td>D       </td><td>BB      </td><td>CCC     </td><td>9822    </td></tr>\n",
       "\t<tr><th scope=row>19094</th><td>3274    </td><td>10932.18</td><td>8809.02 </td><td>D       </td><td>BB      </td><td>CCC     </td><td>9822    </td></tr>\n",
       "</tbody>\n",
       "</table>\n"
      ],
      "text/latex": [
       "\\begin{tabular}{r|lllllll}\n",
       "  & Firm 1 & Firm 2 & Firm 3 & New Rating 1 & New Rating 2 & New Rating 3 & Portfolio\\\\\n",
       "\\hline\n",
       "\t2703 & 3274     & 10844.05 & 3274.00  & D        & B        & D        & 9822    \\\\\n",
       "\t9417 & 3274     & 10194.14 & 8809.02  & D        & CCC      & CCC      & 9822    \\\\\n",
       "\t12666 & 3274     & 10844.05 & 3274.00  & D        & B        & D        & 9822    \\\\\n",
       "\t14905 & 3274     & 10844.05 & 9322.27  & D        & B        & BB       & 9822    \\\\\n",
       "\t16897 & 3274     & 10932.18 & 8809.02  & D        & BB       & CCC      & 9822    \\\\\n",
       "\t19094 & 3274     & 10932.18 & 8809.02  & D        & BB       & CCC      & 9822    \\\\\n",
       "\\end{tabular}\n"
      ],
      "text/markdown": [
       "\n",
       "| <!--/--> | Firm 1 | Firm 2 | Firm 3 | New Rating 1 | New Rating 2 | New Rating 3 | Portfolio |\n",
       "|---|---|---|---|---|---|---|---|\n",
       "| 2703 | 3274     | 10844.05 | 3274.00  | D        | B        | D        | 9822     |\n",
       "| 9417 | 3274     | 10194.14 | 8809.02  | D        | CCC      | CCC      | 9822     |\n",
       "| 12666 | 3274     | 10844.05 | 3274.00  | D        | B        | D        | 9822     |\n",
       "| 14905 | 3274     | 10844.05 | 9322.27  | D        | B        | BB       | 9822     |\n",
       "| 16897 | 3274     | 10932.18 | 8809.02  | D        | BB       | CCC      | 9822     |\n",
       "| 19094 | 3274     | 10932.18 | 8809.02  | D        | BB       | CCC      | 9822     |\n",
       "\n"
      ],
      "text/plain": [
       "      Firm 1 Firm 2   Firm 3  New Rating 1 New Rating 2 New Rating 3 Portfolio\n",
       "2703  3274   10844.05 3274.00 D            B            D            9822     \n",
       "9417  3274   10194.14 8809.02 D            CCC          CCC          9822     \n",
       "12666 3274   10844.05 3274.00 D            B            D            9822     \n",
       "14905 3274   10844.05 9322.27 D            B            BB           9822     \n",
       "16897 3274   10932.18 8809.02 D            BB           CCC          9822     \n",
       "19094 3274   10932.18 8809.02 D            BB           CCC          9822     "
      ]
     },
     "metadata": {},
     "output_type": "display_data"
    }
   ],
   "source": [
    "head(scenarios)"
   ]
  },
  {
   "cell_type": "markdown",
   "id": "a36b0eb3",
   "metadata": {},
   "source": [
    "**VaR determination based on 0.001% of the lowest returns**\n",
    "\n",
    "After conversion, it is the 20th position in the sorted portfolio (20 = 20,000 * 0.001)"
   ]
  },
  {
   "cell_type": "code",
   "execution_count": 26,
   "id": "d84ea90f",
   "metadata": {},
   "outputs": [
    {
     "data": {
      "text/html": [
       "27644.67"
      ],
      "text/latex": [
       "27644.67"
      ],
      "text/markdown": [
       "27644.67"
      ],
      "text/plain": [
       "[1] 27644.67"
      ]
     },
     "metadata": {},
     "output_type": "display_data"
    }
   ],
   "source": [
    "scenarios$Portfolio[20] "
   ]
  },
  {
   "cell_type": "markdown",
   "id": "00fcf255",
   "metadata": {},
   "source": [
    "## Exercise 3"
   ]
  },
  {
   "cell_type": "markdown",
   "id": "704273a2",
   "metadata": {},
   "source": [
    "In the case at hand, the ratings are not correlated. Therefore, the 3 probabilities are multiplied and the amounts added up."
   ]
  },
  {
   "cell_type": "markdown",
   "id": "d34b0f5f",
   "metadata": {},
   "source": [
    "**Creation of portfolio probability matrix**\n",
    "\n",
    "Multiplying 3 probability matrices."
   ]
  },
  {
   "cell_type": "code",
   "execution_count": 27,
   "id": "47279dbf",
   "metadata": {},
   "outputs": [],
   "source": [
    "A_p_matrix <- matrix(c(0.0009, 0.0227, 0.9105, 0.0552, 0.0074, 0.0026, 0.0001, 0.0006), nrow=8, ncol = 1)\n",
    "BB_p_matrix = c(0.0003, 0.0014, 0.0067, 0.0773, 0.8053, 0.0884, 0.0100, 0.0106)\n",
    "CCC_p_matrix <- c(0.0022, 0.0000, 0.0022, 0.0130, 0.0238, 0.1124, 0.6485, 0.1979)"
   ]
  },
  {
   "cell_type": "code",
   "execution_count": 28,
   "id": "38793453",
   "metadata": {},
   "outputs": [
    {
     "data": {
      "text/html": [
       "<table>\n",
       "<tbody>\n",
       "\t<tr><td>0.0009</td></tr>\n",
       "\t<tr><td>0.0227</td></tr>\n",
       "\t<tr><td>0.9105</td></tr>\n",
       "\t<tr><td>0.0552</td></tr>\n",
       "\t<tr><td>0.0074</td></tr>\n",
       "\t<tr><td>0.0026</td></tr>\n",
       "\t<tr><td>0.0001</td></tr>\n",
       "\t<tr><td>0.0006</td></tr>\n",
       "</tbody>\n",
       "</table>\n"
      ],
      "text/latex": [
       "\\begin{tabular}{l}\n",
       "\t 0.0009\\\\\n",
       "\t 0.0227\\\\\n",
       "\t 0.9105\\\\\n",
       "\t 0.0552\\\\\n",
       "\t 0.0074\\\\\n",
       "\t 0.0026\\\\\n",
       "\t 0.0001\\\\\n",
       "\t 0.0006\\\\\n",
       "\\end{tabular}\n"
      ],
      "text/markdown": [
       "\n",
       "| 0.0009 |\n",
       "| 0.0227 |\n",
       "| 0.9105 |\n",
       "| 0.0552 |\n",
       "| 0.0074 |\n",
       "| 0.0026 |\n",
       "| 0.0001 |\n",
       "| 0.0006 |\n",
       "\n"
      ],
      "text/plain": [
       "     [,1]  \n",
       "[1,] 0.0009\n",
       "[2,] 0.0227\n",
       "[3,] 0.9105\n",
       "[4,] 0.0552\n",
       "[5,] 0.0074\n",
       "[6,] 0.0026\n",
       "[7,] 0.0001\n",
       "[8,] 0.0006"
      ]
     },
     "metadata": {},
     "output_type": "display_data"
    }
   ],
   "source": [
    "A_p_matrix"
   ]
  },
  {
   "cell_type": "code",
   "execution_count": 29,
   "id": "9763da2d",
   "metadata": {},
   "outputs": [
    {
     "data": {
      "text/html": [
       "<ol class=list-inline>\n",
       "\t<li>3e-04</li>\n",
       "\t<li>0.0014</li>\n",
       "\t<li>0.0067</li>\n",
       "\t<li>0.0773</li>\n",
       "\t<li>0.8053</li>\n",
       "\t<li>0.0884</li>\n",
       "\t<li>0.01</li>\n",
       "\t<li>0.0106</li>\n",
       "</ol>\n"
      ],
      "text/latex": [
       "\\begin{enumerate*}\n",
       "\\item 3e-04\n",
       "\\item 0.0014\n",
       "\\item 0.0067\n",
       "\\item 0.0773\n",
       "\\item 0.8053\n",
       "\\item 0.0884\n",
       "\\item 0.01\n",
       "\\item 0.0106\n",
       "\\end{enumerate*}\n"
      ],
      "text/markdown": [
       "1. 3e-04\n",
       "2. 0.0014\n",
       "3. 0.0067\n",
       "4. 0.0773\n",
       "5. 0.8053\n",
       "6. 0.0884\n",
       "7. 0.01\n",
       "8. 0.0106\n",
       "\n",
       "\n"
      ],
      "text/plain": [
       "[1] 0.0003 0.0014 0.0067 0.0773 0.8053 0.0884 0.0100 0.0106"
      ]
     },
     "metadata": {},
     "output_type": "display_data"
    }
   ],
   "source": [
    "BB_p_matrix"
   ]
  },
  {
   "cell_type": "code",
   "execution_count": 30,
   "id": "129ff10c",
   "metadata": {},
   "outputs": [
    {
     "data": {
      "text/html": [
       "<ol class=list-inline>\n",
       "\t<li>0.0022</li>\n",
       "\t<li>0</li>\n",
       "\t<li>0.0022</li>\n",
       "\t<li>0.013</li>\n",
       "\t<li>0.0238</li>\n",
       "\t<li>0.1124</li>\n",
       "\t<li>0.6485</li>\n",
       "\t<li>0.1979</li>\n",
       "</ol>\n"
      ],
      "text/latex": [
       "\\begin{enumerate*}\n",
       "\\item 0.0022\n",
       "\\item 0\n",
       "\\item 0.0022\n",
       "\\item 0.013\n",
       "\\item 0.0238\n",
       "\\item 0.1124\n",
       "\\item 0.6485\n",
       "\\item 0.1979\n",
       "\\end{enumerate*}\n"
      ],
      "text/markdown": [
       "1. 0.0022\n",
       "2. 0\n",
       "3. 0.0022\n",
       "4. 0.013\n",
       "5. 0.0238\n",
       "6. 0.1124\n",
       "7. 0.6485\n",
       "8. 0.1979\n",
       "\n",
       "\n"
      ],
      "text/plain": [
       "[1] 0.0022 0.0000 0.0022 0.0130 0.0238 0.1124 0.6485 0.1979"
      ]
     },
     "metadata": {},
     "output_type": "display_data"
    }
   ],
   "source": [
    "CCC_p_matrix"
   ]
  },
  {
   "cell_type": "code",
   "execution_count": 31,
   "id": "73a34124",
   "metadata": {},
   "outputs": [
    {
     "data": {
      "text/html": [
       "<table>\n",
       "<thead><tr><th></th><th scope=col>AAA</th><th scope=col>AA</th><th scope=col>A</th><th scope=col>BBB</th><th scope=col>BB</th><th scope=col>B</th><th scope=col>CCC</th><th scope=col>D</th></tr></thead>\n",
       "<tbody>\n",
       "\t<tr><th scope=row>AAA</th><td>0.00000027</td><td>0.00000126</td><td>0.00000603</td><td>0.00006957</td><td>0.00072477</td><td>0.00007956</td><td>0.000009  </td><td>0.00000954</td></tr>\n",
       "\t<tr><th scope=row>AA</th><td>0.00000681</td><td>0.00003178</td><td>0.00015209</td><td>0.00175471</td><td>0.01828031</td><td>0.00200668</td><td>0.000227  </td><td>0.00024062</td></tr>\n",
       "\t<tr><th scope=row>A</th><td>0.00027315</td><td>0.00127470</td><td>0.00610035</td><td>0.07038165</td><td>0.73322565</td><td>0.08048820</td><td>0.009105  </td><td>0.00965130</td></tr>\n",
       "\t<tr><th scope=row>BBB</th><td>0.00001656</td><td>0.00007728</td><td>0.00036984</td><td>0.00426696</td><td>0.04445256</td><td>0.00487968</td><td>0.000552  </td><td>0.00058512</td></tr>\n",
       "\t<tr><th scope=row>BB</th><td>0.00000222</td><td>0.00001036</td><td>0.00004958</td><td>0.00057202</td><td>0.00595922</td><td>0.00065416</td><td>0.000074  </td><td>0.00007844</td></tr>\n",
       "\t<tr><th scope=row>B</th><td>0.00000078</td><td>0.00000364</td><td>0.00001742</td><td>0.00020098</td><td>0.00209378</td><td>0.00022984</td><td>0.000026  </td><td>0.00002756</td></tr>\n",
       "\t<tr><th scope=row>CCC</th><td>0.00000003</td><td>0.00000014</td><td>0.00000067</td><td>0.00000773</td><td>0.00008053</td><td>0.00000884</td><td>0.000001  </td><td>0.00000106</td></tr>\n",
       "\t<tr><th scope=row>D</th><td>0.00000018</td><td>0.00000084</td><td>0.00000402</td><td>0.00004638</td><td>0.00048318</td><td>0.00005304</td><td>0.000006  </td><td>0.00000636</td></tr>\n",
       "</tbody>\n",
       "</table>\n"
      ],
      "text/latex": [
       "\\begin{tabular}{r|llllllll}\n",
       "  & AAA & AA & A & BBB & BB & B & CCC & D\\\\\n",
       "\\hline\n",
       "\tAAA & 0.00000027 & 0.00000126 & 0.00000603 & 0.00006957 & 0.00072477 & 0.00007956 & 0.000009   & 0.00000954\\\\\n",
       "\tAA & 0.00000681 & 0.00003178 & 0.00015209 & 0.00175471 & 0.01828031 & 0.00200668 & 0.000227   & 0.00024062\\\\\n",
       "\tA & 0.00027315 & 0.00127470 & 0.00610035 & 0.07038165 & 0.73322565 & 0.08048820 & 0.009105   & 0.00965130\\\\\n",
       "\tBBB & 0.00001656 & 0.00007728 & 0.00036984 & 0.00426696 & 0.04445256 & 0.00487968 & 0.000552   & 0.00058512\\\\\n",
       "\tBB & 0.00000222 & 0.00001036 & 0.00004958 & 0.00057202 & 0.00595922 & 0.00065416 & 0.000074   & 0.00007844\\\\\n",
       "\tB & 0.00000078 & 0.00000364 & 0.00001742 & 0.00020098 & 0.00209378 & 0.00022984 & 0.000026   & 0.00002756\\\\\n",
       "\tCCC & 0.00000003 & 0.00000014 & 0.00000067 & 0.00000773 & 0.00008053 & 0.00000884 & 0.000001   & 0.00000106\\\\\n",
       "\tD & 0.00000018 & 0.00000084 & 0.00000402 & 0.00004638 & 0.00048318 & 0.00005304 & 0.000006   & 0.00000636\\\\\n",
       "\\end{tabular}\n"
      ],
      "text/markdown": [
       "\n",
       "| <!--/--> | AAA | AA | A | BBB | BB | B | CCC | D |\n",
       "|---|---|---|---|---|---|---|---|---|\n",
       "| AAA | 0.00000027 | 0.00000126 | 0.00000603 | 0.00006957 | 0.00072477 | 0.00007956 | 0.000009   | 0.00000954 |\n",
       "| AA | 0.00000681 | 0.00003178 | 0.00015209 | 0.00175471 | 0.01828031 | 0.00200668 | 0.000227   | 0.00024062 |\n",
       "| A | 0.00027315 | 0.00127470 | 0.00610035 | 0.07038165 | 0.73322565 | 0.08048820 | 0.009105   | 0.00965130 |\n",
       "| BBB | 0.00001656 | 0.00007728 | 0.00036984 | 0.00426696 | 0.04445256 | 0.00487968 | 0.000552   | 0.00058512 |\n",
       "| BB | 0.00000222 | 0.00001036 | 0.00004958 | 0.00057202 | 0.00595922 | 0.00065416 | 0.000074   | 0.00007844 |\n",
       "| B | 0.00000078 | 0.00000364 | 0.00001742 | 0.00020098 | 0.00209378 | 0.00022984 | 0.000026   | 0.00002756 |\n",
       "| CCC | 0.00000003 | 0.00000014 | 0.00000067 | 0.00000773 | 0.00008053 | 0.00000884 | 0.000001   | 0.00000106 |\n",
       "| D | 0.00000018 | 0.00000084 | 0.00000402 | 0.00004638 | 0.00048318 | 0.00005304 | 0.000006   | 0.00000636 |\n",
       "\n"
      ],
      "text/plain": [
       "    AAA        AA         A          BBB        BB         B          CCC     \n",
       "AAA 0.00000027 0.00000126 0.00000603 0.00006957 0.00072477 0.00007956 0.000009\n",
       "AA  0.00000681 0.00003178 0.00015209 0.00175471 0.01828031 0.00200668 0.000227\n",
       "A   0.00027315 0.00127470 0.00610035 0.07038165 0.73322565 0.08048820 0.009105\n",
       "BBB 0.00001656 0.00007728 0.00036984 0.00426696 0.04445256 0.00487968 0.000552\n",
       "BB  0.00000222 0.00001036 0.00004958 0.00057202 0.00595922 0.00065416 0.000074\n",
       "B   0.00000078 0.00000364 0.00001742 0.00020098 0.00209378 0.00022984 0.000026\n",
       "CCC 0.00000003 0.00000014 0.00000067 0.00000773 0.00008053 0.00000884 0.000001\n",
       "D   0.00000018 0.00000084 0.00000402 0.00004638 0.00048318 0.00005304 0.000006\n",
       "    D         \n",
       "AAA 0.00000954\n",
       "AA  0.00024062\n",
       "A   0.00965130\n",
       "BBB 0.00058512\n",
       "BB  0.00007844\n",
       "B   0.00002756\n",
       "CCC 0.00000106\n",
       "D   0.00000636"
      ]
     },
     "metadata": {},
     "output_type": "display_data"
    }
   ],
   "source": [
    "ABB_p_matrix <- A_p_matrix%*%BB_p_matrix\n",
    "rownames(ABB_p_matrix) <- c('AAA', 'AA', 'A','BBB', 'BB', 'B', 'CCC', 'D')\n",
    "colnames(ABB_p_matrix) <- c('AAA', 'AA', 'A','BBB', 'BB', 'B', 'CCC', 'D')\n",
    "ABB_p_matrix"
   ]
  },
  {
   "cell_type": "code",
   "execution_count": 32,
   "id": "f7759316",
   "metadata": {},
   "outputs": [
    {
     "data": {
      "text/html": [
       "<table>\n",
       "<tbody>\n",
       "\t<tr><th scope=row>AAA</th><td>0.000035</td></tr>\n",
       "\t<tr><th scope=row>AA</th><td>0.000879</td></tr>\n",
       "\t<tr><th scope=row>A</th><td>0.035241</td></tr>\n",
       "\t<tr><th scope=row>BBB</th><td>0.002137</td></tr>\n",
       "\t<tr><th scope=row>BB</th><td>0.000286</td></tr>\n",
       "\t<tr><th scope=row>B</th><td>0.000101</td></tr>\n",
       "\t<tr><th scope=row>CCC</th><td>0.000004</td></tr>\n",
       "\t<tr><th scope=row>D</th><td>0.000023</td></tr>\n",
       "</tbody>\n",
       "</table>\n"
      ],
      "text/latex": [
       "\\begin{tabular}{r|l}\n",
       "\tAAA & 0.000035\\\\\n",
       "\tAA & 0.000879\\\\\n",
       "\tA & 0.035241\\\\\n",
       "\tBBB & 0.002137\\\\\n",
       "\tBB & 0.000286\\\\\n",
       "\tB & 0.000101\\\\\n",
       "\tCCC & 0.000004\\\\\n",
       "\tD & 0.000023\\\\\n",
       "\\end{tabular}\n"
      ],
      "text/markdown": [
       "\n",
       "| AAA | 0.000035 |\n",
       "| AA | 0.000879 |\n",
       "| A | 0.035241 |\n",
       "| BBB | 0.002137 |\n",
       "| BB | 0.000286 |\n",
       "| B | 0.000101 |\n",
       "| CCC | 0.000004 |\n",
       "| D | 0.000023 |\n",
       "\n"
      ],
      "text/plain": [
       "    [,1]    \n",
       "AAA 0.000035\n",
       "AA  0.000879\n",
       "A   0.035241\n",
       "BBB 0.002137\n",
       "BB  0.000286\n",
       "B   0.000101\n",
       "CCC 0.000004\n",
       "D   0.000023"
      ]
     },
     "metadata": {},
     "output_type": "display_data"
    }
   ],
   "source": [
    "ABBCCC_p_matrix <- round(ABB_p_matrix %*% CCC_p_matrix, digits = 6)\n",
    "ABBCCC_p_matrix "
   ]
  },
  {
   "cell_type": "markdown",
   "id": "e40fafe0",
   "metadata": {},
   "source": [
    "**Creation of a vector of portfolio value**"
   ]
  },
  {
   "cell_type": "code",
   "execution_count": 33,
   "id": "b8cf5f2a",
   "metadata": {},
   "outputs": [],
   "source": [
    "A_value = c(5.12, 5.17, 5.32, 5.63, 7.27, 8.52, 13.52, 0.3274*10000)\n",
    "BB_value = c(4.17, 4.22, 4.32, 4.67, 6.02, 7.02, 15.02, 0.53808*10000 + 1500)\n",
    "CCC_value = c(4.73, 4.78, 4.93, 5.25, 6.78, 8.03, 14.03, 0.5113*5000 + 2000)"
   ]
  },
  {
   "cell_type": "code",
   "execution_count": 34,
   "id": "91053016",
   "metadata": {},
   "outputs": [],
   "source": [
    "for(i in 1:7){\n",
    "    A_value[i] = 10000/(1 + A_value[i])\n",
    "    BB_value[i] = 10000/(1 + BB_value[i]) + 1500\n",
    "    CCC_value[i] = 5000/(1 + CCC_value[i]) + 2000\n",
    "}"
   ]
  },
  {
   "cell_type": "code",
   "execution_count": 35,
   "id": "f40ff344",
   "metadata": {},
   "outputs": [],
   "source": [
    "portfolio_value <- rep(NA, 8)\n",
    "for(i in 1:8){\n",
    "    portfolio_value[i] <- A_value[i] + BB_value[i] + CCC_value[i]\n",
    "}"
   ]
  },
  {
   "cell_type": "code",
   "execution_count": 36,
   "id": "01e45d54",
   "metadata": {},
   "outputs": [
    {
     "data": {
      "text/html": [
       "<ol class=list-inline>\n",
       "\t<li>7940.82325393388</li>\n",
       "\t<li>7901.50625832448</li>\n",
       "\t<li>7805.14804953768</li>\n",
       "\t<li>7571.96405627778</li>\n",
       "\t<li>6776.36478915765</li>\n",
       "\t<li>6351.01281712012</li>\n",
       "\t<li>5145.59295684176</li>\n",
       "\t<li>14711.3</li>\n",
       "</ol>\n"
      ],
      "text/latex": [
       "\\begin{enumerate*}\n",
       "\\item 7940.82325393388\n",
       "\\item 7901.50625832448\n",
       "\\item 7805.14804953768\n",
       "\\item 7571.96405627778\n",
       "\\item 6776.36478915765\n",
       "\\item 6351.01281712012\n",
       "\\item 5145.59295684176\n",
       "\\item 14711.3\n",
       "\\end{enumerate*}\n"
      ],
      "text/markdown": [
       "1. 7940.82325393388\n",
       "2. 7901.50625832448\n",
       "3. 7805.14804953768\n",
       "4. 7571.96405627778\n",
       "5. 6776.36478915765\n",
       "6. 6351.01281712012\n",
       "7. 5145.59295684176\n",
       "8. 14711.3\n",
       "\n",
       "\n"
      ],
      "text/plain": [
       "[1]  7940.823  7901.506  7805.148  7571.964  6776.365  6351.013  5145.593\n",
       "[8] 14711.300"
      ]
     },
     "metadata": {},
     "output_type": "display_data"
    }
   ],
   "source": [
    "portfolio_value"
   ]
  },
  {
   "cell_type": "markdown",
   "id": "705ad5cf",
   "metadata": {},
   "source": [
    "**VaR calculation**"
   ]
  },
  {
   "cell_type": "code",
   "execution_count": 37,
   "id": "13271f93",
   "metadata": {},
   "outputs": [],
   "source": [
    "sum_pi <- cumsum(as.vector(ABBCCC_p_matrix))  "
   ]
  },
  {
   "cell_type": "code",
   "execution_count": 38,
   "id": "efc5fedf",
   "metadata": {},
   "outputs": [],
   "source": [
    "scenarios <- data.frame(\n",
    "value_Xi <- portfolio_value,\n",
    "pi <- as.vector(ABBCCC_p_matrix),\n",
    "sum_pi <- sum_pi)\n",
    "colnames(scenarios) <- c('value Xi', 'pi', 'sum pi')"
   ]
  },
  {
   "cell_type": "code",
   "execution_count": 39,
   "id": "6b2e56dc",
   "metadata": {},
   "outputs": [
    {
     "data": {
      "text/html": [
       "<table>\n",
       "<thead><tr><th scope=col>value Xi</th><th scope=col>pi</th><th scope=col>sum pi</th></tr></thead>\n",
       "<tbody>\n",
       "\t<tr><td> 7940.823</td><td>0.000035 </td><td>0.000035 </td></tr>\n",
       "\t<tr><td> 7901.506</td><td>0.000879 </td><td>0.000914 </td></tr>\n",
       "\t<tr><td> 7805.148</td><td>0.035241 </td><td>0.036155 </td></tr>\n",
       "\t<tr><td> 7571.964</td><td>0.002137 </td><td>0.038292 </td></tr>\n",
       "\t<tr><td> 6776.365</td><td>0.000286 </td><td>0.038578 </td></tr>\n",
       "\t<tr><td> 6351.013</td><td>0.000101 </td><td>0.038679 </td></tr>\n",
       "\t<tr><td> 5145.593</td><td>0.000004 </td><td>0.038683 </td></tr>\n",
       "\t<tr><td>14711.300</td><td>0.000023 </td><td>0.038706 </td></tr>\n",
       "</tbody>\n",
       "</table>\n"
      ],
      "text/latex": [
       "\\begin{tabular}{r|lll}\n",
       " value Xi & pi & sum pi\\\\\n",
       "\\hline\n",
       "\t  7940.823 & 0.000035  & 0.000035 \\\\\n",
       "\t  7901.506 & 0.000879  & 0.000914 \\\\\n",
       "\t  7805.148 & 0.035241  & 0.036155 \\\\\n",
       "\t  7571.964 & 0.002137  & 0.038292 \\\\\n",
       "\t  6776.365 & 0.000286  & 0.038578 \\\\\n",
       "\t  6351.013 & 0.000101  & 0.038679 \\\\\n",
       "\t  5145.593 & 0.000004  & 0.038683 \\\\\n",
       "\t 14711.300 & 0.000023  & 0.038706 \\\\\n",
       "\\end{tabular}\n"
      ],
      "text/markdown": [
       "\n",
       "| value Xi | pi | sum pi |\n",
       "|---|---|---|\n",
       "|  7940.823 | 0.000035  | 0.000035  |\n",
       "|  7901.506 | 0.000879  | 0.000914  |\n",
       "|  7805.148 | 0.035241  | 0.036155  |\n",
       "|  7571.964 | 0.002137  | 0.038292  |\n",
       "|  6776.365 | 0.000286  | 0.038578  |\n",
       "|  6351.013 | 0.000101  | 0.038679  |\n",
       "|  5145.593 | 0.000004  | 0.038683  |\n",
       "| 14711.300 | 0.000023  | 0.038706  |\n",
       "\n"
      ],
      "text/plain": [
       "  value Xi  pi       sum pi  \n",
       "1  7940.823 0.000035 0.000035\n",
       "2  7901.506 0.000879 0.000914\n",
       "3  7805.148 0.035241 0.036155\n",
       "4  7571.964 0.002137 0.038292\n",
       "5  6776.365 0.000286 0.038578\n",
       "6  6351.013 0.000101 0.038679\n",
       "7  5145.593 0.000004 0.038683\n",
       "8 14711.300 0.000023 0.038706"
      ]
     },
     "metadata": {},
     "output_type": "display_data"
    }
   ],
   "source": [
    "scenarios"
   ]
  },
  {
   "cell_type": "code",
   "execution_count": 40,
   "id": "90b53973",
   "metadata": {},
   "outputs": [
    {
     "data": {
      "text/html": [
       "14711.3"
      ],
      "text/latex": [
       "14711.3"
      ],
      "text/markdown": [
       "14711.3"
      ],
      "text/plain": [
       "[1] 14711.3"
      ]
     },
     "metadata": {},
     "output_type": "display_data"
    }
   ],
   "source": [
    "scenarios[8,1]"
   ]
  },
  {
   "cell_type": "markdown",
   "id": "2209a85b",
   "metadata": {},
   "source": [
    "The conclusions are similar to those from another project. The more differentiated the basket is (in an ideal situation there are no correlations), the smaller the maximum loss is."
   ]
  }
 ],
 "metadata": {
  "kernelspec": {
   "display_name": "R",
   "language": "R",
   "name": "ir"
  },
  "language_info": {
   "codemirror_mode": "r",
   "file_extension": ".r",
   "mimetype": "text/x-r-source",
   "name": "R",
   "pygments_lexer": "r",
   "version": "3.6.1"
  }
 },
 "nbformat": 4,
 "nbformat_minor": 5
}
