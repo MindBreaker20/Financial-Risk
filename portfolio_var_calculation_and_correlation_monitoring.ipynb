{
 "cells": [
  {
   "cell_type": "markdown",
   "id": "29e4131f",
   "metadata": {},
   "source": [
    "# Portfolio VaR Calculation and Correlation Monitoring\n",
    "**Bartłomiej Jamiolkowski 18.01.2022**"
   ]
  },
  {
   "cell_type": "markdown",
   "id": "20d64fc9",
   "metadata": {},
   "source": [
    "# 1. Introduction"
   ]
  },
  {
   "cell_type": "markdown",
   "id": "f6481b76",
   "metadata": {},
   "source": [
    "The aim of the work is to present the methods of monitoring the correlation along with the interpretation and to determine the VaR for the portfolio using specific methods. The calculations use the return prices of 3 well-known world stock exchange indexes (time period from 01/01/2006 to 31/12/2021) downloaded from the website stooq.pl. The project is implemented using the R language in Jupyter Notebook."
   ]
  },
  {
   "cell_type": "code",
   "execution_count": 5,
   "id": "3c556cb3",
   "metadata": {},
   "outputs": [],
   "source": [
    "options(warn=-1)\n",
    "library(SciViews)\n",
    "library(ggplot2)\n",
    "library(dplyr)\n",
    "library(gridExtra)\n",
    "\n",
    "library(fImport)\n",
    "library(tseries)\n",
    "library(quantmod)\n",
    "library(GGally)\n",
    "library(GAS)\n",
    "library(segMGarch)\n",
    "library(kableExtra)\n",
    "library(tidyr)"
   ]
  },
  {
   "cell_type": "markdown",
   "id": "eb714a63",
   "metadata": {},
   "source": [
    "Data import"
   ]
  },
  {
   "cell_type": "code",
   "execution_count": 37,
   "id": "7c5e2967",
   "metadata": {},
   "outputs": [],
   "source": [
    "nasdaq_d <- read.csv(\"^NDQ.csv\", header = TRUE)\n",
    "nikkei_225_d <- read.csv(\"^NKX.csv\", header = TRUE)\n",
    "shanghai_d <- read.csv(\"^SHC.csv\", header = TRUE)"
   ]
  },
  {
   "cell_type": "markdown",
   "id": "8f91d53d",
   "metadata": {},
   "source": [
    "Choice of closing prices of stock indices"
   ]
  },
  {
   "cell_type": "code",
   "execution_count": 8,
   "id": "513a6dab",
   "metadata": {},
   "outputs": [],
   "source": [
    "nasdaq_d_close <- nasdaq_d$Close\n",
    "nikkei_225_d_close <- nikkei_225_d$Close\n",
    "shanghai_d_close <- shanghai_d$Close"
   ]
  },
  {
   "cell_type": "markdown",
   "id": "905dcace",
   "metadata": {},
   "source": [
    "Calculation of logarithmic rates of return for individual indexes"
   ]
  },
  {
   "cell_type": "code",
   "execution_count": 9,
   "id": "e848abf1",
   "metadata": {},
   "outputs": [],
   "source": [
    "rate_of_return_nasdaq <- rep(0, 4028)\n",
    "for(i in 1:4028){\n",
    "  rate_of_return_nasdaq[i] = 100 * log(nasdaq_d_close[i + 1]/nasdaq_d_close[i])\n",
    "}\n",
    "\n",
    "rate_of_return_nikkei_225 <- rep(0, 3917)\n",
    "for(i in 1:3917){\n",
    "  rate_of_return_nikkei_225[i] = 100 * log(nikkei_225_d_close[i + 1]/nikkei_225_d_close[i])\n",
    "}\n",
    "\n",
    "rate_of_return_shanghai <- rep(0, 3888)\n",
    "for(i in 1:3888){\n",
    "  rate_of_return_shanghai[i] = 100 * log(shanghai_d_close[i + 1]/shanghai_d_close[i])\n",
    "}"
   ]
  },
  {
   "cell_type": "markdown",
   "id": "da03d7d6",
   "metadata": {},
   "source": [
    "## 1.1 Extraction of negative returns"
   ]
  },
  {
   "cell_type": "markdown",
   "id": "fb6f9ff2",
   "metadata": {},
   "source": [
    "Due to the visualization of changes in the correlation value over time, at this stage of the extraction negative rates of return with assigned dates are subject. Data is stored in created data frames for each index."
   ]
  },
  {
   "cell_type": "markdown",
   "id": "284136ed",
   "metadata": {},
   "source": [
    "### 1.1.1 Negative Nasdaq Composite index returns"
   ]
  },
  {
   "cell_type": "code",
   "execution_count": 10,
   "id": "cf49483a",
   "metadata": {},
   "outputs": [],
   "source": [
    "data1 <- data.frame(\n",
    "  Date = nasdaq_d$Date[-1],\n",
    "  Return = rate_of_return_nasdaq\n",
    ")\n",
    "minus_date <- c()\n",
    "minus_return <- c()\n",
    "for(i in 1:length(data1$Return)){\n",
    "  if(data1$Return[i] < 0){\n",
    "    minus_date <- append(minus_date, data1$Date[i])\n",
    "    minus_return <-append(minus_return, data1$Return[i])\n",
    "  }\n",
    "}\n",
    "data1 <- data.frame(\n",
    "  Date = as.Date(minus_date),\n",
    "  Return = minus_return\n",
    ")"
   ]
  },
  {
   "cell_type": "markdown",
   "id": "bc9992cb",
   "metadata": {},
   "source": [
    "### 1.1.2 Negative rates of return for the Nikkei 225 index"
   ]
  },
  {
   "cell_type": "code",
   "execution_count": 12,
   "id": "be6c7660",
   "metadata": {},
   "outputs": [],
   "source": [
    "data2 <- data.frame(\n",
    "  Date = nikkei_225_d$Date[-1],\n",
    "  Return = rate_of_return_nikkei_225\n",
    ")\n",
    "minus_date <- c()\n",
    "minus_return <- c()\n",
    "for(i in 1:length(data2$Return)){\n",
    "  if(data2$Return[i] < 0){\n",
    "    minus_date <- append(minus_date, data2$Date[i])\n",
    "    minus_return <-append(minus_return, data2$Return[i])\n",
    "  }\n",
    "}\n",
    "data2 <- data.frame(\n",
    "  Date = as.Date(minus_date),\n",
    "  Return = minus_return\n",
    ")"
   ]
  },
  {
   "cell_type": "markdown",
   "id": "1b47a017",
   "metadata": {},
   "source": [
    "### 1.1.3 Negative Shanghai Composite index returns"
   ]
  },
  {
   "cell_type": "code",
   "execution_count": 16,
   "id": "f378222e",
   "metadata": {},
   "outputs": [],
   "source": [
    "data3 <- data.frame(\n",
    "  Date = shanghai_d$Date[-1],\n",
    "  Return = rate_of_return_shanghai\n",
    ")\n",
    "minus_date <- c()\n",
    "minus_return <- c()\n",
    "for(i in 1:length(data3$Return)){\n",
    "  if(data3$Return[i] < 0){\n",
    "    minus_date <- append(minus_date, data3$Date[i])\n",
    "    minus_return <-append(minus_return, data3$Return[i])\n",
    "  }\n",
    "}\n",
    "data3 <- data.frame(\n",
    "  Date = as.Date(minus_date),\n",
    "  Return = minus_return\n",
    ")"
   ]
  },
  {
   "cell_type": "markdown",
   "id": "ba5303d3",
   "metadata": {},
   "source": [
    "## 1.2 Transforming data to correlate"
   ]
  },
  {
   "cell_type": "markdown",
   "id": "81bc1d54",
   "metadata": {},
   "source": [
    "In order to calculate the correlation, the vectors should be aligned to the same length. In addition, the time data needed for the subsequent visualization of changes in the correlation value should be taken into account. Therefore, the most sensible solution is to choose the time span for the longest vector. Based on this vector, 3 new data frames are created. In each frame, the dates are assigned negative phrases searched for based on the dates in the previous 3 frames. As a result, a negative return column appears with NA values ​​present. NA values ​​arise as a result of two events. The first reason is the non-negative rate of return not included. The second reason for this is, for example, the lack of data from stock exchanges, for example in Asia, due to their closing on a certain day for various reasons. Two methods of solving the NA problem in time series are popular. The first way is to delete the row. The second, and in this case better way, is to replace the missing values ​​with the top or bottom values. The result of these operations is 3 vectors capable of calculating the correlation."
   ]
  },
  {
   "cell_type": "markdown",
   "id": "cd666492",
   "metadata": {},
   "source": [
    "**negative returns on the Nasdaq Composite Index**"
   ]
  },
  {
   "cell_type": "code",
   "execution_count": 26,
   "id": "0ea13919",
   "metadata": {},
   "outputs": [],
   "source": [
    "nasdaq <- data.frame(\n",
    "  Date = nasdaq_d$Date[6:4029],\n",
    "  Return = rep(NA, length(nasdaq_d$Close[6:4029]))\n",
    ")\n",
    "for(i in 1:length(nasdaq$Date)){\n",
    "  for(j in 1:length(data1$Date)){\n",
    "    if(nasdaq$Date[i] == data1$Date[j]){\n",
    "      nasdaq$Return[i] = data1$Return[j]\n",
    "    }\n",
    "  }\n",
    "}\n",
    "minus_nasdaq <- nasdaq %>% fill(Return, .direction = 'downup')"
   ]
  },
  {
   "cell_type": "markdown",
   "id": "d0d5702b",
   "metadata": {},
   "source": [
    "**negative returns on the Nikkei 225 index**"
   ]
  },
  {
   "cell_type": "code",
   "execution_count": 18,
   "id": "6c169ddf",
   "metadata": {},
   "outputs": [],
   "source": [
    "nikkei_225 <- data.frame(\n",
    "  Date = nasdaq$Date,\n",
    "  Return = rep(0, 4024)\n",
    ")\n",
    "for(i in 1:length(nikkei_225$Date)){\n",
    "  for(j in 1:length(data2$Date)){\n",
    "    if(nikkei_225$Date[i] == data2$Date[j]){\n",
    "      nikkei_225$Return[i] = data2$Return[j]\n",
    "    }\n",
    "  }\n",
    "}\n",
    "minus_nikkei_225 <- nikkei_225 %>% fill(Return, .direction = 'downup')"
   ]
  },
  {
   "cell_type": "markdown",
   "id": "e9b1fc94",
   "metadata": {},
   "source": [
    "**negative returns of the Shanghai Composite index**"
   ]
  },
  {
   "cell_type": "code",
   "execution_count": 19,
   "id": "7a713f4f",
   "metadata": {},
   "outputs": [],
   "source": [
    "shanghai <- data.frame(\n",
    "  Date = nasdaq$Date,\n",
    "  Return = rep(0, 4024)\n",
    ")\n",
    "for(i in 1:length(shanghai$Date)){\n",
    "  for(j in 1:length(data3$Date)){\n",
    "    if(shanghai$Date[i] == data3$Date[j]){\n",
    "      shanghai$Return[i] = data3$Return[j]\n",
    "    }\n",
    "  }\n",
    "}\n",
    "minus_shanghai <- shanghai %>% fill(Return, .direction = 'downup')"
   ]
  },
  {
   "cell_type": "markdown",
   "id": "95f8154a",
   "metadata": {},
   "source": [
    "# 2. Monitoring the correlation"
   ]
  },
  {
   "cell_type": "markdown",
   "id": "c82f1599",
   "metadata": {},
   "source": [
    "As part of the correlation monitoring, the correlations are calculated using: a rolling observation window (T = 30) with the use of Pearson's correlation, EWMA with lambda = 0.94 and GARCH (1.1). For this purpose, three functions are created to automate these processes. The effects of the algorithms' work are presented in the diagrams of the correlation of negative returns of three indices in the project."
   ]
  },
  {
   "cell_type": "markdown",
   "id": "0085dfe7",
   "metadata": {},
   "source": [
    "**Pearson correlation (T = 30)**"
   ]
  },
  {
   "cell_type": "code",
   "execution_count": 20,
   "id": "0078edd4",
   "metadata": {},
   "outputs": [],
   "source": [
    "pearson_corr <- function(x, y){\n",
    "  p_cor <- c()\n",
    "  for(i in 0:(length(x) - 31)){\n",
    "    x_cor <- rep(0, 30)\n",
    "    y_cor <- rep(0, 30)\n",
    "    for(j in 1:30){\n",
    "      x_cor[j] = x[j + i]\n",
    "      y_cor[j] = y[j + i]\n",
    "    }\n",
    "    c = cor(x_cor, y_cor, method = \"pearson\")\n",
    "    p_cor <- append(p_cor, c)\n",
    "  }\n",
    "  return(p_cor)\n",
    "}"
   ]
  },
  {
   "cell_type": "markdown",
   "id": "4941e38e",
   "metadata": {},
   "source": [
    "**EWMA correlation**"
   ]
  },
  {
   "cell_type": "code",
   "execution_count": 21,
   "id": "6e27bfb7",
   "metadata": {},
   "outputs": [],
   "source": [
    "ewma_corr <- function(x, y){\n",
    "  lambda = 0.94\n",
    "  covariance <- rep(0, length(x))\n",
    "  covariance[1] = cov(x, y)\n",
    "  for(i in 1:(length(x) - 1)){\n",
    "    covariance[i + 1] = covariance[i] * lambda + (1 - lambda) * x[i] * y[i]\n",
    "  }\n",
    "  variance_x <- rep(0, length(x))\n",
    "  variance_x[1] = var(x)\n",
    "  for(i in 1:(length(x) - 1)){\n",
    "    variance_x[i + 1] = variance_x[i] * lambda + (1 - lambda) * x[i]^2\n",
    "  }\n",
    "  variance_y <- rep(0, length(y))\n",
    "  variance_y[1] = var(y)\n",
    "  for(i in 1:(length(y) - 1)){\n",
    "    variance_y[i + 1] = variance_y[i] * lambda + (1 - lambda) * y[i]^2\n",
    "  }\n",
    "  sd_x <- rep(0, length(variance_x))\n",
    "  sd_y <- rep(0, length(variance_y))\n",
    "  for(i in 1:length(variance_x)){\n",
    "    sd_x[i] = sqrt(variance_x[i])\n",
    "    sd_y[i] = sqrt(variance_y[i])\n",
    "  }\n",
    "  ewma_cor <- rep(0, length(x))\n",
    "  for(i in 1:length(variance_x)){\n",
    "    ewma_cor[i] = covariance[i] / (sd_x[i] * sd_y[i])\n",
    "  }\n",
    "  return(ewma_cor)\n",
    "}"
   ]
  },
  {
   "cell_type": "markdown",
   "id": "fb6fbc05",
   "metadata": {},
   "source": [
    "**correlation GARCH (1,1)**"
   ]
  },
  {
   "cell_type": "code",
   "execution_count": 22,
   "id": "02ca5f9f",
   "metadata": {},
   "outputs": [],
   "source": [
    "garch_corr <- function(x, y){\n",
    "  gamma = 0.02\n",
    "  alpha = 0.15\n",
    "  beta = 0.83\n",
    "  long_run_vr = 0.00015\n",
    "  covariance <- rep(0, length(x))\n",
    "  covariance[1] = cov(x, y)\n",
    "  for(i in 1:(length(x) - 1)){\n",
    "    covariance[i + 1] = beta * covariance[i] + alpha * x[i] * y[i] + gamma * long_run_vr\n",
    "  }\n",
    "  variance_x <- rep(0, length(x))\n",
    "  variance_x[1] = var(x)\n",
    "  for(i in 1:(length(x) - 1)){\n",
    "    variance_x[i + 1] = beta * variance_x[i] + alpha * x[i]^2 + gamma * long_run_vr\n",
    "  }\n",
    "  variance_y <- rep(0, length(y))\n",
    "  variance_y[1] = var(y)\n",
    "  for(i in 1:(length(y) - 1)){\n",
    "    variance_y[i + 1] = beta * variance_y[i] + alpha * y[i]^2 + gamma * long_run_vr\n",
    "  }\n",
    "  sd_x <- rep(0, length(variance_x))\n",
    "  sd_y <- rep(0, length(variance_y))\n",
    "  for(i in 1:length(variance_x)){\n",
    "    sd_x[i] = sqrt(variance_x[i])\n",
    "    sd_y[i] = sqrt(variance_y[i])\n",
    "  }\n",
    "  garch_cor <- rep(0, length(x))\n",
    "  for(i in 1:length(variance_x)){\n",
    "    garch_cor[i] = covariance[i] / (sd_x[i] * sd_y[i])\n",
    "  }\n",
    "  return(garch_cor)\n",
    "}"
   ]
  },
  {
   "cell_type": "markdown",
   "id": "042d32f6",
   "metadata": {},
   "source": [
    "# 2.1 Nasdaq Composite - Nikkei 225 correlation"
   ]
  },
  {
   "cell_type": "markdown",
   "id": "f80bdf89",
   "metadata": {},
   "source": [
    "Vectors containing the calculated correlation values are created using 3 methods."
   ]
  },
  {
   "cell_type": "code",
   "execution_count": 23,
   "id": "5780c1f2",
   "metadata": {},
   "outputs": [],
   "source": [
    "pearson_nasdaq_nikkei_corr <- pearson_corr(minus_nasdaq$Return, minus_nikkei_225$Return)\n",
    "ewma_nasdaq_nikkei_corr <- ewma_corr(minus_nasdaq$Return, nikkei_225$Return)\n",
    "garch_nasdaq_nikkei_corr <- garch_corr(minus_nasdaq$Return, minus_nikkei_225$Return)"
   ]
  },
  {
   "cell_type": "code",
   "execution_count": 27,
   "id": "1cdb82a0",
   "metadata": {},
   "outputs": [
    {
     "data": {
      "image/png": "[encoded data removed]",
      "text/plain": [
       "plot without title"
      ]
     },
     "metadata": {},
     "output_type": "display_data"
    }
   ],
   "source": [
    "data4 <- data.frame(\n",
    "  day = as.Date(nasdaq$Date),\n",
    "  value1 = rep(NA, 4024),\n",
    "  value2 = garch_nasdaq_nikkei_corr,\n",
    "  value3 = ewma_nasdaq_nikkei_corr\n",
    ")\n",
    "for(i in 31:4024){\n",
    "  data4$value1[i] = pearson_nasdaq_nikkei_corr[i - 30]\n",
    "}\n",
    "\n",
    "options(repr.plot.width=10, repr.plot.height=6)\n",
    "ggplot(data = data4, aes(x = day, y = value1)) + \n",
    "geom_line(color = \"#404788FF\", size = 0.8) +\n",
    "geom_line(aes(x = data4$day, y = data4$value2, color = '#29AF7FFF'), size = 0.8) +\n",
    "geom_line(aes(x = data4$day, y = data4$value3, color = '#FDE725FF'), size = 0.8) +\n",
    "ggtitle(\"Correlation between Nasdaq Composite and Nikkei 225 minus returns\") +\n",
    "ylab('correlation')+xlab('time') +\n",
    "scale_colour_manual(name = '',values =c('#404788FF'='#404788FF', '#29AF7FFF'='#29AF7FFF','#FDE725FF'='#FDE725FF'), labels = c('Pearson (T = 30)', 'GARCH','EWMA'))"
   ]
  },
  {
   "cell_type": "markdown",
   "id": "e3a74559",
   "metadata": {},
   "source": [
    "# 2.2 Nasdaq Composite - Shanghai Composite correlation"
   ]
  },
  {
   "cell_type": "markdown",
   "id": "1d5245f9",
   "metadata": {},
   "source": [
    "Vectors containing the calculated correlation values are created using 3 methods."
   ]
  },
  {
   "cell_type": "code",
   "execution_count": 28,
   "id": "f5242e95",
   "metadata": {},
   "outputs": [],
   "source": [
    "pearson_nasdaq_shanghai_corr <- pearson_corr(minus_nasdaq$Return, minus_shanghai$Return)\n",
    "ewma_nasdaq_shanghai_corr <- ewma_corr(minus_nasdaq$Return, minus_shanghai$Return)\n",
    "garch_nasdaq_shanghai_corr <- garch_corr(minus_nasdaq$Return, minus_shanghai$Return)"
   ]
  },
  {
   "cell_type": "code",
   "execution_count": 29,
   "id": "4546835f",
   "metadata": {},
   "outputs": [
    {
     "data": {
      "image/png": "[encoded data removed]",
      "text/plain": [
       "plot without title"
      ]
     },
     "metadata": {},
     "output_type": "display_data"
    }
   ],
   "source": [
    "data5 <- data.frame(\n",
    "  day = as.Date(nasdaq$Date),\n",
    "  value1 = rep(NA, 4024),\n",
    "  value2 = garch_nasdaq_shanghai_corr,\n",
    "  value3 = ewma_nasdaq_shanghai_corr\n",
    ")\n",
    "for(i in 31:4024){\n",
    "  data5$value1[i] = pearson_nasdaq_shanghai_corr[i - 30]\n",
    "}\n",
    "ggplot(data = data5, aes(x = day, y = value1)) + \n",
    "geom_line(color = \"#404788FF\", size = 0.8) +\n",
    "geom_line(aes(x = data5$day, y = data5$value2, color = '#29AF7FFF'), size = 0.8) +\n",
    "geom_line(aes(x = data5$day, y = data5$value3, color = '#FDE725FF'), size = 0.8) +\n",
    "ggtitle(\"Correlation between Nasdaq Composite and Shanghai Composite minus returns\") +\n",
    "ylab('correlation')+xlab('time') +\n",
    "scale_colour_manual(name = '',values =c('#404788FF'='#404788FF', '#29AF7FFF'='#29AF7FFF','#FDE725FF'='#FDE725FF'), labels = c('Pearson (T = 30)', 'GARCH', 'EWMA'))"
   ]
  },
  {
   "cell_type": "markdown",
   "id": "6f488a49",
   "metadata": {},
   "source": [
    "# 2.3 Nikkei 225 correlation - Shanghai Composite"
   ]
  },
  {
   "cell_type": "markdown",
   "id": "35a3d00f",
   "metadata": {},
   "source": [
    "Vectors containing the calculated correlation values are created using 3 methods."
   ]
  },
  {
   "cell_type": "code",
   "execution_count": 30,
   "id": "62218310",
   "metadata": {},
   "outputs": [],
   "source": [
    "pearson_nikkei_225_shanghai_corr <- pearson_corr(minus_nikkei_225$Return, minus_shanghai$Return)\n",
    "ewma_nikkei_225_shanghai_corr <- ewma_corr(minus_nikkei_225$Return, minus_shanghai$Return)\n",
    "garch_nikkei_225_shanghai_corr <- garch_corr(minus_nikkei_225$Return, minus_shanghai$Return)"
   ]
  },
  {
   "cell_type": "code",
   "execution_count": 31,
   "id": "b2fd5a76",
   "metadata": {},
   "outputs": [
    {
     "data": {
      "image/png": "[encoded data removed]",
      "text/plain": [
       "plot without title"
      ]
     },
     "metadata": {},
     "output_type": "display_data"
    }
   ],
   "source": [
    "data6 <- data.frame(\n",
    "  day = as.Date(nasdaq$Date),\n",
    "  value1 = rep(NA, 4024),\n",
    "  value2 = garch_nikkei_225_shanghai_corr,\n",
    "  value3 = ewma_nikkei_225_shanghai_corr\n",
    ")\n",
    "for(i in 31:4024){\n",
    "  data6$value1[i] = pearson_nikkei_225_shanghai_corr[i - 30]\n",
    "}\n",
    "\n",
    "ggplot(data = data6, aes(x = day, y = value1)) + \n",
    "geom_line(color = \"#404788FF\", size = 0.8) +\n",
    "geom_line(aes(x = data6$day, y = data6$value2, color = '#29AF7FFF'), size = 0.8) +\n",
    "geom_line(aes(x = data6$day, y = data6$value3, color = '#FDE725FF'), size = 0.8) +\n",
    "ggtitle(\"Correlation between Nikkei 225 and Shanghai Composite minus returns\") +\n",
    "ylab('correlation')+xlab('time') +\n",
    "scale_colour_manual(name = '',values =c('#404788FF'='#404788FF', '#29AF7FFF'='#29AF7FFF','#FDE725FF'='#FDE725FF'), labels = c('Pearson (T = 30)', 'GARCH', 'EWMA'))"
   ]
  },
  {
   "cell_type": "markdown",
   "id": "f48db293",
   "metadata": {},
   "source": [
    "**Interpretation**\n",
    "\n",
    "The presented graphics show that the correlation for negative rates of return is not constant over time. Pearson's correlation indicates the lack of a strong linear relationship between the studied indices. EWMA and GARCH methods take higher positive values suggesting a stronger linear relationship. In this case, fluctuations in correlation may attract attention. The EWMA model is characterized by the smallest fluctuations."
   ]
  },
  {
   "cell_type": "markdown",
   "id": "c1de7e22",
   "metadata": {},
   "source": [
    "# 3. Influence of the considered correlation between loss rates on risk reduction"
   ]
  },
  {
   "cell_type": "markdown",
   "id": "98e44f25",
   "metadata": {},
   "source": [
    "Considering the correlation between loss rates can reduce VaR because the correlation provides information about the strength and direction of the relationship between financial instruments and industries.\n",
    "This translates into a method of portfolio diversification and thus reduces the risk of losses. For example, if the portfolio consists of only aviation stocks (all eggs in the basket), then in the event of negative information from the aviation sector, stock prices will decrease and the portfolio will record a decrease in value. Therefore, the weakest possible correlations are desired, meaning that the portfolio manager has invested in a variety of industries, areas and companies."
   ]
  },
  {
   "cell_type": "markdown",
   "id": "82899284",
   "metadata": {},
   "source": [
    "# 4. Determining the VaR for the portfolio"
   ]
  },
  {
   "cell_type": "markdown",
   "id": "08586e7f",
   "metadata": {},
   "source": [
    "This part of the project aims to present the calculated 95% VaR of a portfolio consisting of 3 selected indices using 2 correlation monitoring models: EWMA and GARCH with a 250-day history.\n",
    "\n",
    "In this case, also create vectors of equal length in the same way as described in the section on monitoring correlations."
   ]
  },
  {
   "cell_type": "code",
   "execution_count": 32,
   "id": "f54b44b7",
   "metadata": {},
   "outputs": [],
   "source": [
    "data7 <- data.frame(\n",
    "  Date = nasdaq_d$Date[2:4029],\n",
    "  Return = rate_of_return_nasdaq\n",
    ")"
   ]
  },
  {
   "cell_type": "code",
   "execution_count": 35,
   "id": "578a6224",
   "metadata": {},
   "outputs": [],
   "source": [
    "data8 <- data.frame(\n",
    "  Date = nasdaq_d$Date[2:4029],\n",
    "  Return = rep(0, 4028)\n",
    ")\n",
    "for(i in 1:length(data1$Date)){\n",
    "  for(j in 1:length(nikkei_225_d$Date)){\n",
    "    if(data8$Date[i] == nikkei_225_d$Date[j]){\n",
    "      data8$Return[i] = 1\n",
    "    }\n",
    "  }\n",
    "}\n",
    "j = 1\n",
    "a = 1\n",
    "for(i in 1:length(data2$Date)){\n",
    "  if(data8$Return[i] == 1 && a == 1){\n",
    "    data8$Return[i] = 0\n",
    "    a = 0\n",
    "  }\n",
    "  if(data8$Return[i] == 1){\n",
    "    data8$Return[i] = rate_of_return_nikkei_225[j]\n",
    "    j = j + 1\n",
    "  }\n",
    "  else{\n",
    "    data8$Return[i] = NA\n",
    "  }\n",
    "}\n",
    "data8 <- data8 %>% fill(Return, .direction = 'downup')"
   ]
  },
  {
   "cell_type": "code",
   "execution_count": 40,
   "id": "9b84c181",
   "metadata": {},
   "outputs": [],
   "source": [
    "data9 <- data.frame(\n",
    "  Date = nasdaq_d$Date[2:4029],\n",
    "  Return = rep(0, 4028)\n",
    ")\n",
    "for(i in 1:length(data1$Date)){\n",
    "  for(j in 1:length(shanghai_d$Date)){\n",
    "    if(data9$Date[i] == shanghai_d$Date[j]){\n",
    "      data9$Return[i] = 1\n",
    "    }\n",
    "  }\n",
    "}\n",
    "j = 1\n",
    "a = 1\n",
    "for(i in 1:length(data3$Date)){\n",
    "  if(data9$Return[i] == 1 && a == 1){\n",
    "    data9$Return[i] = 0\n",
    "    a = 0\n",
    "  }\n",
    "  if(data9$Return[i] == 1){\n",
    "    data9$Return[i] = rate_of_return_shanghai[j]\n",
    "    j = j + 1\n",
    "  }\n",
    "  else{\n",
    "    data9$Return[i] = NA\n",
    "  }\n",
    "}\n",
    "data9 <- data9 %>% fill(Return, .direction = 'downup')\n"
   ]
  },
  {
   "cell_type": "markdown",
   "id": "120ddc0d",
   "metadata": {},
   "source": [
    "# 4.1 EWMA method"
   ]
  },
  {
   "cell_type": "code",
   "execution_count": 41,
   "id": "5238a52b",
   "metadata": {},
   "outputs": [],
   "source": [
    "ewma_var <- function(x, y, z, a){\n",
    "  ewma_value_at_risk <- c()\n",
    "  for(i in 0:(length(x) - 251)){\n",
    "    window_x <- rep(0, 250)\n",
    "    window_y <- rep(0, 250)\n",
    "    window_z <- rep(0, 250)\n",
    "    for(j in 1:250){\n",
    "      window_x[j] = x[i + j]\n",
    "      window_y[j] = y[i + j]\n",
    "      window_z[j] = z[i + j]\n",
    "    }\n",
    "    lambda = 0.94\n",
    "    variance_x <- rep(0, length(window_x))\n",
    "    variance_y <- rep(0, length(window_y))\n",
    "    variance_z <- rep(0, length(window_z))\n",
    "    variance_x[1] = var(window_x)\n",
    "    variance_y[1] = var(window_y)\n",
    "    variance_z[1] = var(window_z)\n",
    "    for(i in 1:(length(window_x) - 1)){\n",
    "      variance_x[i + 1] = variance_x[i] * lambda + (1 - lambda) * window_x[i]^2\n",
    "      variance_y[i + 1] = variance_y[i] * lambda + (1 - lambda) * window_y[i]^2\n",
    "      variance_z[i + 1] = variance_z[i] * lambda + (1 - lambda) * window_z[i]^2\n",
    "    }\n",
    "    covariance_xy <- rep(0, length(window_x))\n",
    "    covariance_xz <- rep(0, length(window_x))\n",
    "    covariance_yz <- rep(0, length(window_x))\n",
    "    covariance_xy[1] = cov(window_x, window_y)\n",
    "    covariance_xz[1] = cov(window_x, window_z)\n",
    "    covariance_yz[1] = cov(window_y, window_z)\n",
    "    for(i in 1:(length(window_x) - 1)){\n",
    "      covariance_xy[i + 1] = covariance_xy[i] * lambda + (1 - lambda) * window_x[i] * window_y[i]\n",
    "      covariance_xz[i + 1] = covariance_xz[i] * lambda + (1 - lambda) * window_x[i] * window_z[i]\n",
    "      covariance_yz[i + 1] = covariance_yz[i] * lambda + (1 - lambda) * window_y[i] * window_z[i]\n",
    "    }\n",
    "    correlation_xy = tail(covariance_xy, 1) / (sqrt(tail(variance_x, 1)) * sqrt(tail(variance_y, 1)))\n",
    "    correlation_xz = tail(covariance_xz, 1) / (sqrt(tail(variance_x, 1)) * sqrt(tail(variance_z, 1)))\n",
    "    correlation_yz = tail(covariance_yz, 1) / (sqrt(tail(variance_y, 1)) * sqrt(tail(variance_z, 1)))\n",
    "\n",
    "    variance_portfolio = 1/9 * (tail(variance_x, 1) + tail(variance_y, 1) + tail(variance_z, 1))\n",
    "    + 2/9 * (correlation_xy * sqrt(tail(variance_x, 1)) * sqrt(tail(variance_y, 1)) + correlation_xz              *  sqrt(tail(variance_x, 1)) * sqrt(tail(variance_z, 1)) + correlation_yz *\n",
    "    sqrt(tail(variance_y, 1)) * sqrt(tail(variance_z, 1)))\n",
    "    sd_portfolio = sqrt(variance_portfolio)\n",
    "    q = qnorm(1 - a)\n",
    "    value_var = sd_portfolio * q\n",
    "    ewma_value_at_risk <- append(ewma_value_at_risk, value_var)\n",
    "  }\n",
    "  return(ewma_value_at_risk)\n",
    "}"
   ]
  },
  {
   "cell_type": "code",
   "execution_count": 42,
   "id": "dcde5f9a",
   "metadata": {},
   "outputs": [],
   "source": [
    "ewma_95_portfolio_var <- ewma_var(data7$Return, data8$Return, data9$Return, 0.05)"
   ]
  },
  {
   "cell_type": "code",
   "execution_count": 47,
   "id": "04aa6d22",
   "metadata": {},
   "outputs": [
    {
     "data": {
      "image/png": "[encoded data removed]",
      "text/plain": [
       "plot without title"
      ]
     },
     "metadata": {},
     "output_type": "display_data"
    }
   ],
   "source": [
    "data11 <- data.frame(\n",
    "  day = as.Date(data1$Date[251:4028]),\n",
    "  value1 = ewma_95_portfolio_var\n",
    ")\n",
    "\n",
    "ggplot(data = data11, aes(x = day, y = value1)) + \n",
    "  geom_line(color = \"darkblue\", size = 0.8) +\n",
    "  ggtitle(\"EWMA simulated portfolio with 95% VaR\") +\n",
    "  ylab('VaR')+xlab('Time')"
   ]
  },
  {
   "cell_type": "markdown",
   "id": "151cc0e4",
   "metadata": {},
   "source": [
    "# 4.2 GARCH method (1,1)"
   ]
  },
  {
   "cell_type": "code",
   "execution_count": 44,
   "id": "78122f71",
   "metadata": {},
   "outputs": [],
   "source": [
    "garch_var <- function(x, y, z, a){\n",
    "  garch_value_at_risk <- c()\n",
    "  for(i in 0:(length(x) - 251)){\n",
    "    window_x <- rep(0, 250)\n",
    "    window_y <- rep(0, 250)\n",
    "    window_z <- rep(0, 250)\n",
    "    for(j in 1:250){\n",
    "      window_x[j] = x[i + j]\n",
    "      window_y[j] = y[i + j]\n",
    "      window_z[j] = z[i + j]\n",
    "    }\n",
    "    gamma = 0.02\n",
    "    alpha = 0.15\n",
    "    beta = 0.83\n",
    "    long_run_vr = 0.00015\n",
    "    variance_x <- rep(0, length(window_x))\n",
    "    variance_y <- rep(0, length(window_y))\n",
    "    variance_z <- rep(0, length(window_z))\n",
    "    variance_x[1] = var(window_x)\n",
    "    variance_y[1] = var(window_y)\n",
    "    variance_z[1] = var(window_z)\n",
    "    for(i in 1:(length(window_x) - 1)){\n",
    "      variance_x[i + 1] = beta * variance_x[i] + alpha * window_x[i]^2 + gamma * long_run_vr\n",
    "      variance_y[i + 1] = beta * variance_y[i] + alpha * window_y[i]^2 + gamma * long_run_vr\n",
    "      variance_z[i + 1] = beta * variance_z[i] + alpha * window_z[i]^2 + gamma * long_run_vr\n",
    "    }\n",
    "    covariance_xy <- rep(0, length(window_x))\n",
    "    covariance_xz <- rep(0, length(window_x))\n",
    "    covariance_yz <- rep(0, length(window_x))\n",
    "    covariance_xy[1] = cov(window_x, window_y)\n",
    "    covariance_xz[1] = cov(window_x, window_z)\n",
    "    covariance_yz[1] = cov(window_y, window_z)\n",
    "    for(i in 1:(length(window_x) - 1)){\n",
    "      covariance_xy[i + 1] = beta * covariance_xy[i] + alpha * window_x[i] * window_y[i] + gamma *                 long_run_vr\n",
    "      covariance_xz[i + 1] = beta * covariance_xz[i] + alpha * window_x[i] * window_z[i] + gamma *                 long_run_vr\n",
    "      covariance_yz[i + 1] = beta * covariance_yz[i] + alpha * window_y[i] * window_z[i] + gamma *                 long_run_vr\n",
    "    }\n",
    "    correlation_xy = tail(covariance_xy, 1) / (sqrt(tail(variance_x, 1)) * sqrt(tail(variance_y, 1)))\n",
    "    correlation_xz = tail(covariance_xz, 1) / (sqrt(tail(variance_x, 1)) * sqrt(tail(variance_z, 1)))\n",
    "    correlation_yz = tail(covariance_yz, 1) / (sqrt(tail(variance_y, 1)) * sqrt(tail(variance_z, 1)))\n",
    "\n",
    "    variance_portfolio = 1/9 * (tail(variance_x, 1) + tail(variance_y, 1) + tail(variance_z, 1))\n",
    "    + 2/9 * (correlation_xy * sqrt(tail(variance_x, 1)) * sqrt(tail(variance_y, 1)) + correlation_xz              *  sqrt(tail(variance_x, 1)) * sqrt(tail(variance_z, 1)) + correlation_yz *\n",
    "    sqrt(tail(variance_y, 1)) * sqrt(tail(variance_z, 1)))\n",
    "    sd_portfolio = sqrt(variance_portfolio)\n",
    "    q = qnorm(1 - a)\n",
    "    value_var = sd_portfolio * q\n",
    "    garch_value_at_risk <- append(garch_value_at_risk, value_var)\n",
    "  }\n",
    "  return(garch_value_at_risk)\n",
    "}"
   ]
  },
  {
   "cell_type": "code",
   "execution_count": 45,
   "id": "d6d878b9",
   "metadata": {},
   "outputs": [],
   "source": [
    "garch_95_portfolio_var <- garch_var(data7$Return, data8$Return, data9$Return, 0.05)"
   ]
  },
  {
   "cell_type": "code",
   "execution_count": 48,
   "id": "bd7c3cdc",
   "metadata": {},
   "outputs": [
    {
     "data": {
      "image/png": "[encoded data removed]",
      "text/plain": [
       "plot without title"
      ]
     },
     "metadata": {},
     "output_type": "display_data"
    }
   ],
   "source": [
    "data12 <- data.frame(\n",
    "  day = as.Date(data1$Date[251:4028]),\n",
    "  value1 = garch_95_portfolio_var\n",
    ")\n",
    "\n",
    "ggplot(data = data12, aes(x = day, y = value1)) + \n",
    "  geom_line(color = \"darkblue\", size = 0.8) +\n",
    "  ggtitle(\"GARCH simulated portfolio with 95% VaR\") +\n",
    "  ylab('VaR')+xlab('Time')"
   ]
  },
  {
   "cell_type": "markdown",
   "id": "18ba369b",
   "metadata": {},
   "source": [
    "# 4.4 Comparison of methods"
   ]
  },
  {
   "cell_type": "code",
   "execution_count": 51,
   "id": "2879c6f6",
   "metadata": {},
   "outputs": [
    {
     "data": {
      "image/png": "[encoded data removed]",
      "text/plain": [
       "plot without title"
      ]
     },
     "metadata": {},
     "output_type": "display_data"
    }
   ],
   "source": [
    "day = as.Date(shanghai$Date)\n",
    "\n",
    "data13 <- data.frame(\n",
    "  day = day[251:4028],\n",
    "  value1 = ewma_95_portfolio_var,\n",
    "  value2 = garch_95_portfolio_var\n",
    ")\n",
    "\n",
    "ggplot(data = data13, aes(x = day, y = value1)) + \n",
    "  geom_line(color = \"darkblue\", size = 1) +\n",
    "  geom_line(aes(x = data13$day, y = data13$value2, color = 'red'), size = 0.5) +\n",
    "  ggtitle(\"Comparison of methods used in portfolios VaR at 95% calculation\") +\n",
    "  ylab('VaR')+xlab('Time') +\n",
    "  scale_colour_manual(name = '',values =c('darkblue'='darkblue', 'red'='red'),\n",
    "                      labels = c('EWMA','GARCH'))"
   ]
  }
 ],
 "metadata": {
  "kernelspec": {
   "display_name": "R",
   "language": "R",
   "name": "ir"
  },
  "language_info": {
   "codemirror_mode": "r",
   "file_extension": ".r",
   "mimetype": "text/x-r-source",
   "name": "R",
   "pygments_lexer": "r",
   "version": "3.6.1"
  }
 },
 "nbformat": 4,
 "nbformat_minor": 5
}
